{
 "cells": [
  {
   "cell_type": "markdown",
   "id": "78a486a4",
   "metadata": {},
   "source": [
    "# Pertemuan 5\n",
    "\n",
    "************************\n",
    "\n",
    "## Conditional Programming (Looping for)\n",
    "\n",
    "*************************\n",
    "\n",
    "### 1. Looping For"
   ]
  },
  {
   "cell_type": "markdown",
   "id": "65504c48",
   "metadata": {},
   "source": [
    "For looping adalah perulangan yang menjalankan beberapa blok kode dengan ketentuan yang sudah ditetapkan.\n",
    "\n",
    "Gunakan for disaat kita mengetahui berapa kali ingin mengulang. Sedangkan while jalan dulu baru kondisi di akhir."
   ]
  },
  {
   "cell_type": "markdown",
   "id": "0d86ce90",
   "metadata": {},
   "source": [
    "**Struktur Program For Loop**\n",
    "```Python\n",
    "for variabel in urutan:\n",
    "    # blok kode yang diulang\n",
    "```\n",
    "\n",
    "**Penjelasan:**\n",
    "\n",
    "* variabel → nama variabel yang akan menyimpan tiap nilai sementara dalam urutan\n",
    "\n",
    "* urutan → bisa berupa range(), list, string, atau data iterable lainnya\n",
    "\n",
    "* Blok kode di dalam for akan diulang sebanyak elemen dalam urutan tersebut"
   ]
  },
  {
   "cell_type": "markdown",
   "id": "fdd2ef8a",
   "metadata": {},
   "source": [
    "| Tipe `for` Loop           | Digunakan Saat...                   |\n",
    "| ------------------------- | ----------------------------------- |\n",
    "| `for i in range()`        | Perulangan berdasarkan jumlah angka |\n",
    "| `for item in list/tuple`  | Menelusuri isi koleksi              |\n",
    "| `for char in string`      | Mengulang tiap huruf                |\n",
    "| `for key, value in dict`  | Iterasi key dan value               |\n",
    "| `for i, v in enumerate()` | Dapatkan index dan item             |\n",
    "| Nested loop               | Pola, kombinasi, baris x kolom      |\n"
   ]
  },
  {
   "cell_type": "markdown",
   "id": "e4273192",
   "metadata": {},
   "source": [
    "| Aspek                    | `for` loop                                       | `while` loop                                       |\n",
    "| ------------------------ | ------------------------------------------------ | -------------------------------------------------- |\n",
    "| **Digunakan saat**       | Jumlah perulangan **sudah diketahui**            | Jumlah perulangan **belum pasti / dinamis**        |\n",
    "| **Struktur**             | `for variabel in urutan:`                        | `while kondisi:`                                   |\n",
    "| **Berdasarkan**          | **urutan / iterable** (list, range, string, dsb) | **kondisi** (True/False)                           |\n",
    "| **Kontrol perulangan**   | Otomatis (lewat range, list, dst)                | Harus update variabel manual agar kondisi berhenti |\n",
    "| **Risiko infinite loop** | Kecil (karena otomatis selesai)                  | Lebih tinggi (kalau lupa update kondisi)           |\n"
   ]
  },
  {
   "cell_type": "code",
   "execution_count": 2,
   "id": "12992a7c",
   "metadata": {},
   "outputs": [
    {
     "name": "stdout",
     "output_type": "stream",
     "text": [
      "0\n",
      "1\n",
      "2\n",
      "3\n",
      "4\n",
      "5\n",
      "6\n",
      "7\n",
      "8\n",
      "9\n"
     ]
    }
   ],
   "source": [
    "# perulangan sederhana\n",
    "for i in range(10):\n",
    "    print(i)\n"
   ]
  },
  {
   "cell_type": "code",
   "execution_count": 1,
   "id": "11352c72",
   "metadata": {},
   "outputs": [
    {
     "name": "stdout",
     "output_type": "stream",
     "text": [
      "apel\n",
      "============\n",
      "Saya suka apel\n",
      "\n",
      "jeruk\n",
      "============\n",
      "Saya suka jeruk\n",
      "\n",
      "pisang\n",
      "============\n",
      "Saya suka pisang\n",
      "\n",
      "Mangga\n",
      "============\n",
      "Saya suka Mangga\n",
      "\n",
      "Buah naga\n",
      "============\n",
      "Saya suka Buah naga\n",
      "\n",
      "Markisa\n",
      "============\n",
      "Saya suka Markisa\n",
      "\n",
      "Terong belanda\n",
      "============\n",
      "Saya suka Terong belanda\n",
      "\n",
      "tomat\n",
      "============\n",
      "Saya suka tomat\n",
      "\n"
     ]
    }
   ],
   "source": [
    "# FOR LOOP LIST\n",
    "buah = [\"apel\", \"jeruk\", \"pisang\", \"Mangga\", \"Buah naga\", \"Markisa\", \"Terong belanda\", \"tomat\"]\n",
    "for item in buah:\n",
    "    print(item)\n",
    "    print(\"============\")\n",
    "    print(f\"Saya suka {item}\\n\")"
   ]
  },
  {
   "cell_type": "code",
   "execution_count": 2,
   "id": "e5584c51",
   "metadata": {},
   "outputs": [
    {
     "name": "stdout",
     "output_type": "stream",
     "text": [
      "P\n",
      "y\n",
      "t\n",
      "h\n",
      "o\n",
      "n\n",
      " \n",
      "D\n",
      "a\n",
      "t\n",
      "a\n",
      " \n",
      "S\n",
      "c\n",
      "i\n",
      "e\n",
      "n\n",
      "c\n",
      "e\n"
     ]
    }
   ],
   "source": [
    "# FOR LOOP STRING\n",
    "\n",
    "# perulangan huruf atau string\n",
    "for huruf in \"Python Data Science\":\n",
    "    print(huruf)"
   ]
  },
  {
   "cell_type": "code",
   "execution_count": null,
   "id": "e0f9e523",
   "metadata": {},
   "outputs": [
    {
     "name": "stdout",
     "output_type": "stream",
     "text": [
      "1\n",
      "2\n",
      "3\n",
      "4\n",
      "-\n",
      "5\n",
      "6\n",
      "7\n",
      "8\n",
      "-\n",
      "9\n",
      "0\n",
      "1\n",
      "2\n",
      "-\n",
      "3\n",
      "4\n",
      "5\n",
      "6\n"
     ]
    }
   ],
   "source": [
    "# FOR LOOP STRING\n",
    "\n",
    "kartu_kredit = \"1234-5678-9012-3456\"\n",
    "\n",
    "for x in kartu_kredit:\n",
    "    print(x)"
   ]
  },
  {
   "cell_type": "markdown",
   "id": "dc2c92e5",
   "metadata": {},
   "source": [
    "#### 1.2 For in range"
   ]
  },
  {
   "cell_type": "code",
   "execution_count": 12,
   "id": "cd4bf125",
   "metadata": {},
   "outputs": [
    {
     "name": "stdout",
     "output_type": "stream",
     "text": [
      "1\n",
      "2\n",
      "3\n",
      "4\n",
      "5\n",
      "6\n",
      "7\n",
      "8\n",
      "9\n",
      "10\n",
      "Ini adalah looping\n"
     ]
    }
   ],
   "source": [
    "# perulangan for range\n",
    "for x in range(1, 11):\n",
    "    print(x)\n",
    "\n",
    "print(\"Ini adalah looping\")"
   ]
  },
  {
   "cell_type": "code",
   "execution_count": 4,
   "id": "a92a66cd",
   "metadata": {},
   "outputs": [
    {
     "name": "stdout",
     "output_type": "stream",
     "text": [
      "1\n",
      "2\n",
      "3\n",
      "4\n",
      "5\n",
      "6\n",
      "7\n",
      "8\n",
      "9\n",
      "10\n",
      "11\n",
      "12\n",
      "14\n",
      "15\n",
      "16\n",
      "17\n",
      "18\n",
      "19\n",
      "20\n"
     ]
    }
   ],
   "source": [
    "for x in range(1, 21):\n",
    "    if x == 13:\n",
    "        continue\n",
    "        break\n",
    "    else:\n",
    "        print(x)"
   ]
  },
  {
   "cell_type": "code",
   "execution_count": 15,
   "id": "1b8683c9",
   "metadata": {},
   "outputs": [
    {
     "name": "stdout",
     "output_type": "stream",
     "text": [
      "100 x 1 = 100\n",
      "100 x 2 = 200\n",
      "100 x 3 = 300\n",
      "100 x 4 = 400\n",
      "100 x 5 = 500\n",
      "100 x 6 = 600\n",
      "100 x 7 = 700\n",
      "100 x 8 = 800\n",
      "100 x 9 = 900\n",
      "100 x 10 = 1000\n"
     ]
    }
   ],
   "source": [
    "# Program tabel perkalian\n",
    "angka = int(input(\"Masukkan angka: \"))\n",
    "\n",
    "for i in range(1, 11):\n",
    "    print(f\"{angka} x {i} = {angka * i}\")\n"
   ]
  },
  {
   "cell_type": "code",
   "execution_count": 21,
   "id": "5974d05a",
   "metadata": {},
   "outputs": [
    {
     "name": "stdout",
     "output_type": "stream",
     "text": [
      "*\n",
      "**\n",
      "***\n",
      "****\n",
      "*****\n",
      "******\n",
      "*******\n",
      "********\n",
      "*********\n",
      "**********\n"
     ]
    }
   ],
   "source": [
    "# Program bentuk segitiga\n",
    "tinggi = 10\n",
    "for i in range(1, tinggi + 1):\n",
    "    print(\"*\" * i)\n"
   ]
  },
  {
   "cell_type": "code",
   "execution_count": 23,
   "id": "842ffbdf",
   "metadata": {},
   "outputs": [
    {
     "name": "stdout",
     "output_type": "stream",
     "text": [
      "4\n",
      "3\n",
      "2\n",
      "1\n",
      "0\n",
      "Looping ini terbalik\n"
     ]
    }
   ],
   "source": [
    "# menggunakan perintah reversed\n",
    "\n",
    "for x in reversed(range(0, 5)):\n",
    "    print(x)\n",
    "\n",
    "print(\"Looping ini terbalik\")\n",
    "\n"
   ]
  },
  {
   "cell_type": "code",
   "execution_count": 27,
   "id": "bed11aa6",
   "metadata": {},
   "outputs": [
    {
     "name": "stdout",
     "output_type": "stream",
     "text": [
      "1 adalah ganjil\n",
      "2 adalah genap\n",
      "3 adalah ganjil\n",
      "4 adalah genap\n",
      "5 adalah ganjil\n",
      "6 adalah genap\n",
      "7 adalah ganjil\n",
      "8 adalah genap\n",
      "9 adalah ganjil\n",
      "10 adalah genap\n"
     ]
    }
   ],
   "source": [
    "# Program Ganjil Genap\n",
    "\n",
    "import time\n",
    "\n",
    "for i in range(1, 11):\n",
    "    if i % 2 == 0:\n",
    "        print(f\"{i} adalah genap\")\n",
    "    else:\n",
    "        print(f\"{i} adalah ganjil\")\n",
    "\n",
    "    time.sleep(1)"
   ]
  },
  {
   "cell_type": "markdown",
   "id": "67528599",
   "metadata": {},
   "source": [
    "#### 1.3 For loop (Start, Stop, Step)\n",
    "\n",
    "termasuk perulangan terkontrol. Struktur nya :\n",
    "\n",
    "```Pyhton\n",
    "range(start, stop, step)\n",
    "```\n",
    "Penjelasan :\n",
    "\n",
    "start → nilai awal perulangan (default: 0)\n",
    "\n",
    "stop → batas akhir (tidak termasuk) atau kapan berhenti nya\n",
    "\n",
    "step → loncatan / selisih antar nilai (default: 1)\n"
   ]
  },
  {
   "cell_type": "code",
   "execution_count": 28,
   "id": "7aad96eb",
   "metadata": {},
   "outputs": [
    {
     "name": "stdout",
     "output_type": "stream",
     "text": [
      "0\n",
      "2\n",
      "4\n",
      "6\n",
      "8\n"
     ]
    }
   ],
   "source": [
    "for x in range(0, 10, 2):\n",
    "    print(x)"
   ]
  },
  {
   "cell_type": "code",
   "execution_count": 34,
   "id": "11382a50",
   "metadata": {},
   "outputs": [
    {
     "name": "stdout",
     "output_type": "stream",
     "text": [
      "5\n",
      "4\n",
      "3\n",
      "2\n",
      "1\n"
     ]
    }
   ],
   "source": [
    "for x in range(5, 0, -1):\n",
    "    print(x)"
   ]
  },
  {
   "cell_type": "code",
   "execution_count": 7,
   "id": "eeae96a9",
   "metadata": {},
   "outputs": [
    {
     "name": "stdout",
     "output_type": "stream",
     "text": [
      "00:00:10\n",
      "00:00:09\n",
      "00:00:08\n",
      "00:00:07\n",
      "00:00:06\n",
      "00:00:05\n",
      "00:00:04\n",
      "00:00:03\n",
      "00:00:02\n",
      "00:00:01\n",
      "Waktu habis\n"
     ]
    }
   ],
   "source": [
    "# program hitung mundur atau countdown\n",
    "import time\n",
    "\n",
    "waktu_saya = int(input(\"Masukkan waktu dalam detik\"))\n",
    "\n",
    "# for x in range(0, waktu_saya):\n",
    "for x in range(waktu_saya, 0, -1):\n",
    "    detik = x % 60 \n",
    "    menit = int(x / 60) % 60\n",
    "    jam = int(x / 3600)\n",
    "    print(f\"{jam:02}:{menit:02}:{detik:02}\")\n",
    "    time.sleep(0)\n",
    "\n",
    "print(\"Waktu habis\")"
   ]
  },
  {
   "cell_type": "markdown",
   "id": "16557d96",
   "metadata": {},
   "source": [
    "#### 1.4 For loop Dictionary"
   ]
  },
  {
   "cell_type": "code",
   "execution_count": 8,
   "id": "932fdf84",
   "metadata": {},
   "outputs": [
    {
     "name": "stdout",
     "output_type": "stream",
     "text": [
      "nama: Budi\n",
      "umur: 21\n",
      "jurusan: Teknik Informatika\n"
     ]
    }
   ],
   "source": [
    "# Data siswa berupa dictionary\n",
    "siswa = {\n",
    "    \"nama\": \"Budi\",\n",
    "    \"umur\": 21,\n",
    "    \"jurusan\": \"Teknik Informatika\"\n",
    "}\n",
    "\n",
    "# Menelusuri key dan value\n",
    "for k, v in siswa.items():\n",
    "    print(f\"{k}: {v}\")\n"
   ]
  },
  {
   "cell_type": "code",
   "execution_count": null,
   "id": "b97925ab",
   "metadata": {},
   "outputs": [
    {
     "name": "stdout",
     "output_type": "stream",
     "text": [
      "\n",
      "Data Siswa 1:\n",
      "Nama: Budi\n",
      "Umur: 21\n",
      "Jurusan: Teknik Informatika\n",
      "\n",
      "Data Siswa 2:\n",
      "Nama: Ani\n",
      "Umur: 22\n",
      "Jurusan: Sistem Informasi\n",
      "\n",
      "Data Siswa 3:\n",
      "Nama: Cici\n",
      "Umur: 20\n",
      "Jurusan: Teknik Komputer\n"
     ]
    }
   ],
   "source": [
    "# Nested Loop Dictionary\n",
    "data_siswa = [\n",
    "    {\"nama\": \"Budi\", \"umur\": 21, \"jurusan\": \"Teknik Informatika\"},\n",
    "    {\"nama\": \"Ani\", \"umur\": 22, \"jurusan\": \"Sistem Informasi\"},\n",
    "    {\"nama\": \"Cici\", \"umur\": 20, \"jurusan\": \"Teknik Komputer\"}\n",
    "]\n",
    "\n",
    "# Menelusuri seluruh data\n",
    "for index, siswa in enumerate(data_siswa, start=1):\n",
    "    print(f\"\\nData Siswa {index}:\")\n",
    "    for key, value in siswa.items():\n",
    "        print(f\"{key.capitalize()}: {value}\")\n"
   ]
  },
  {
   "cell_type": "markdown",
   "id": "ea18882f",
   "metadata": {},
   "source": [
    "#### 1.5 For Loop Enumerate"
   ]
  },
  {
   "cell_type": "markdown",
   "id": "222040e7",
   "metadata": {},
   "source": [
    "**Apa Itu enumerate ?**\n",
    "\n",
    "**Enumerate()** adalah fungsi bawaan (built-in function) di Python yang digunakan untuk mengulang (loop) sebuah iterable sambil mendapatkan index-nya secara otomatis.\n",
    "\n",
    "**Enumerate** itu memberi nomor pada isi list pada saat for loop.\n",
    "\n",
    "Struktur Dasar nya :\n",
    "\n",
    "```python\n",
    "for index, value in enumerate(iterable):\n",
    "    # kode di sini\n",
    "```"
   ]
  },
  {
   "cell_type": "code",
   "execution_count": 9,
   "id": "e969d504",
   "metadata": {},
   "outputs": [
    {
     "name": "stdout",
     "output_type": "stream",
     "text": [
      "0. apel\n",
      "1. jeruk\n",
      "2. mangga\n"
     ]
    }
   ],
   "source": [
    "buah = [\"apel\", \"jeruk\", \"mangga\"]\n",
    "\n",
    "for i, nama in enumerate(buah):\n",
    "    print(f\"{i}. {nama}\")"
   ]
  },
  {
   "cell_type": "code",
   "execution_count": 45,
   "id": "c4214054",
   "metadata": {},
   "outputs": [
    {
     "name": "stdout",
     "output_type": "stream",
     "text": [
      "1. Matematika\n",
      "2. Biologi\n",
      "3. Pemrograman\n",
      "4. Fisika\n"
     ]
    }
   ],
   "source": [
    "# List mata pelajaran\n",
    "mapel = [\"Matematika\", \"Biologi\", \"Pemrograman\", \"Fisika\"]\n",
    "\n",
    "# Loop dengan index\n",
    "for index, nama in enumerate(mapel):\n",
    "    print(f\"{index + 1}. {nama}\")"
   ]
  },
  {
   "cell_type": "code",
   "execution_count": 46,
   "id": "534291ea",
   "metadata": {},
   "outputs": [
    {
     "name": "stdout",
     "output_type": "stream",
     "text": [
      "1. Matematika\n",
      "2. Biologi\n",
      "3. Pemrograman\n",
      "4. Fisika\n"
     ]
    }
   ],
   "source": [
    "for i, pelajaran in enumerate(mapel, start=1):\n",
    "    print(f\"{i}. {pelajaran}\")\n"
   ]
  },
  {
   "cell_type": "code",
   "execution_count": 52,
   "id": "e8033b15",
   "metadata": {},
   "outputs": [
    {
     "name": "stdout",
     "output_type": "stream",
     "text": [
      "Menu Hari Ini:\n",
      "1. Nasi Goreng\n",
      "2. Mie Ayam\n",
      "3. Sate Ayam\n",
      "Pilihan tidak valid.\n"
     ]
    }
   ],
   "source": [
    "menu = [\"Nasi Goreng\", \"Mie Ayam\", \"Sate Ayam\"]\n",
    "\n",
    "print(\"Menu Hari Ini:\")\n",
    "for i, makanan in enumerate(menu, start=1):\n",
    "    print(f\"{i}. {makanan}\")\n",
    "\n",
    "pilihan = int(input(\"Pilih menu nomor berapa? \"))\n",
    "\n",
    "if 1 <= pilihan <= len(menu):\n",
    "    print(f\"Kamu memilih: {menu[pilihan - 1]}\")\n",
    "else:\n",
    "    print(\"Pilihan tidak valid.\")\n",
    "\n"
   ]
  },
  {
   "cell_type": "markdown",
   "id": "c3c31042",
   "metadata": {},
   "source": [
    "****************************"
   ]
  },
  {
   "cell_type": "markdown",
   "id": "e9e6b9e3",
   "metadata": {},
   "source": [
    "### 2. Nested Loop For\n",
    "\n",
    "Nested loop adalah loop bersarang yang terdiri dari outer loop dan inner loop.\n",
    "\n",
    "Digunakan untuk : \n",
    "\n",
    "* Matriks\n",
    "\n",
    "* Tabel\n",
    "\n",
    "* Pola bintang\n",
    "\n",
    "* Loop dalam loop (misalnya: baris dan kolom)\n",
    "\n",
    "**Contoh bentuk nya :**\n",
    "\n",
    "```python\n",
    "outer loop:\n",
    "    inner loop:\n",
    "```"
   ]
  },
  {
   "cell_type": "code",
   "execution_count": null,
   "id": "827090c8",
   "metadata": {},
   "outputs": [],
   "source": [
    "# looping angka satu baris\n",
    "for x in range(1, 10):\n",
    "    print(x, end=\" \")"
   ]
  },
  {
   "cell_type": "code",
   "execution_count": null,
   "id": "3818a344",
   "metadata": {},
   "outputs": [],
   "source": [
    "# outer loop\n",
    "for x in range(3):\n",
    "    # inner loop\n",
    "    for y in range(1, 10):\n",
    "        print(y, end=\" \")\n",
    "    print()"
   ]
  },
  {
   "cell_type": "code",
   "execution_count": 55,
   "id": "8d044c87",
   "metadata": {},
   "outputs": [
    {
     "name": "stdout",
     "output_type": "stream",
     "text": [
      "kkkkkkkkkk\n",
      "kkkkkkkkkk\n",
      "kkkkkkkkkk\n",
      "kkkkkkkkkk\n",
      "kkkkkkkkkk\n",
      "kkkkkkkkkk\n",
      "kkkkkkkkkk\n",
      "kkkkkkkkkk\n",
      "kkkkkkkkkk\n",
      "kkkkkkkkkk\n"
     ]
    }
   ],
   "source": [
    "# PROGRAM BARIS DAN KOLOM\n",
    "baris = int(input(\"masukkan angka untuk baris: \"))\n",
    "kolom = int(input(\"masukkan angka untuk kolom: \"))\n",
    "simbol = input(\"masukkan simbol yang digunakan: \")\n",
    "\n",
    "# outer loop\n",
    "for x in range(baris):\n",
    "    # inner loop\n",
    "    for y in range(kolom):\n",
    "        print(simbol, end=\"\")\n",
    "    print()"
   ]
  },
  {
   "cell_type": "code",
   "execution_count": null,
   "id": "acfe397c",
   "metadata": {},
   "outputs": [
    {
     "ename": "ValueError",
     "evalue": "invalid literal for int() with base 10: ''",
     "output_type": "error",
     "traceback": [
      "\u001b[31m---------------------------------------------------------------------------\u001b[39m",
      "\u001b[31mValueError\u001b[39m                                Traceback (most recent call last)",
      "\u001b[36mCell\u001b[39m\u001b[36m \u001b[39m\u001b[32mIn[57]\u001b[39m\u001b[32m, line 4\u001b[39m\n\u001b[32m      1\u001b[39m \u001b[38;5;66;03m# Program Jumlah rata2 kelas siswa\u001b[39;00m\n\u001b[32m      2\u001b[39m \n\u001b[32m      3\u001b[39m \u001b[38;5;66;03m# Input jumlah siswa\u001b[39;00m\n\u001b[32m----> \u001b[39m\u001b[32m4\u001b[39m jumlah_siswa = \u001b[38;5;28;43mint\u001b[39;49m\u001b[43m(\u001b[49m\u001b[38;5;28;43minput\u001b[39;49m\u001b[43m(\u001b[49m\u001b[33;43m\"\u001b[39;49m\u001b[33;43mMasukkan jumlah siswa: \u001b[39;49m\u001b[33;43m\"\u001b[39;49m\u001b[43m)\u001b[49m\u001b[43m)\u001b[49m\n\u001b[32m      5\u001b[39m daftar_nilai = []\n\u001b[32m      7\u001b[39m \u001b[38;5;66;03m# Input nilai menggunakan for loop\u001b[39;00m\n",
      "\u001b[31mValueError\u001b[39m: invalid literal for int() with base 10: ''"
     ]
    }
   ],
   "source": [
    "# Program Jumlah rata2 kelas siswa\n",
    "\n",
    "# Input jumlah siswa\n",
    "jumlah_siswa = int(input(\"Masukkan jumlah siswa: \"))\n",
    "daftar_nilai = []\n",
    "\n",
    "# Input nilai menggunakan for loop\n",
    "for i in range(1, jumlah_siswa + 1):\n",
    "    nilai = float(input(f\"Masukkan nilai siswa ke-{i}: \"))\n",
    "    daftar_nilai.append(nilai)\n",
    "\n",
    "# Tampilkan nilai tiap siswa\n",
    "print(\"\\nDaftar Nilai Siswa:\")\n",
    "for index, nilai in enumerate(daftar_nilai, start=1):\n",
    "    print(f\"Siswa {index}: {nilai}\")\n",
    "\n",
    "# Hitung rata-rata\n",
    "rata_rata = sum(daftar_nilai) / jumlah_siswa\n",
    "print(f\"\\nRata-rata nilai kelas: {rata_rata:.2f}\")\n"
   ]
  },
  {
   "cell_type": "code",
   "execution_count": null,
   "id": "449a82bd",
   "metadata": {},
   "outputs": [],
   "source": [
    "# PROGRAM MATRIKS\n",
    "\n",
    "# Input ukuran matriks\n",
    "baris = int(input(\"Masukkan jumlah baris: \"))\n",
    "kolom = int(input(\"Masukkan jumlah kolom: \"))\n",
    "\n",
    "# Buat matriks kosong\n",
    "matriks = []\n",
    "\n",
    "# Input elemen matriks\n",
    "print(\"\\nMasukkan elemen matriks:\")\n",
    "for i in range(baris):\n",
    "    baris_data = []\n",
    "    for j in range(kolom):\n",
    "        nilai = int(input(f\"Elemen [{i}][{j}]: \"))\n",
    "        baris_data.append(nilai)\n",
    "    matriks.append(baris_data)\n",
    "\n",
    "# Tampilkan matriks\n",
    "print(\"\\n🧾 Matriks yang diinput:\")\n",
    "for i in range(baris):\n",
    "    for j in range(kolom):\n",
    "        print(matriks[i][j], end=\"\\t\")\n",
    "    print()\n"
   ]
  },
  {
   "cell_type": "code",
   "execution_count": null,
   "id": "c4614b3b",
   "metadata": {},
   "outputs": [],
   "source": [
    "# Program Gudang Sederhana untuk Menampilkan Lokasi Barang\n",
    "# Dibuat dengan nested loop 3 tingkat (rak, baris, kolom)\n",
    "\n",
    "# Input dari pengguna untuk menentukan ukuran gudang\n",
    "rak = int(input(\"Masukkan jumlah rak: \"))       # Input jumlah rak (tinggi)\n",
    "baris = int(input(\"Masukkan jumlah baris: \"))   # Input jumlah baris (maju-mundur)\n",
    "kolom = int(input(\"Masukkan jumlah kolom: \"))   # Input jumlah kolom (kiri-kanan)\n",
    "\n",
    "print(\"\\n Lokasi Barang di Gudang:\\n\")\n",
    "\n",
    "# Perulangan pertama: untuk setiap rak\n",
    "for r in range(1, rak + 1):  # ditambah +1 karena range tidak termasuk batas akhir\n",
    "    # Perulangan kedua: untuk setiap baris dalam rak\n",
    "    for b in range(1, baris + 1):\n",
    "        # Perulangan ketiga: untuk setiap kolom dalam baris\n",
    "        for k in range(1, kolom + 1):\n",
    "            # Menampilkan posisi barang berdasarkan rak, baris, dan kolom\n",
    "            print(f\"Rak-{r} | Baris-{b} | Kolom-{k}\")\n",
    "\n",
    "# +1 ini agar loop mencakup angka terakhir\n"
   ]
  },
  {
   "cell_type": "markdown",
   "id": "bfef70a6",
   "metadata": {},
   "source": [
    "**************************"
   ]
  },
  {
   "cell_type": "markdown",
   "id": "e66f5e85",
   "metadata": {},
   "source": [
    "Buatlah Perulangan For loop dari apa yang kita pelajari."
   ]
  }
 ],
 "metadata": {
  "kernelspec": {
   "display_name": ".venv",
   "language": "python",
   "name": "python3"
  },
  "language_info": {
   "codemirror_mode": {
    "name": "ipython",
    "version": 3
   },
   "file_extension": ".py",
   "mimetype": "text/x-python",
   "name": "python",
   "nbconvert_exporter": "python",
   "pygments_lexer": "ipython3",
   "version": "3.13.2"
  }
 },
 "nbformat": 4,
 "nbformat_minor": 5
}
