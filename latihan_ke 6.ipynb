{
 "cells": [
  {
   "cell_type": "markdown",
   "id": "da4eac72",
   "metadata": {},
   "source": [
    "# Pertemuan 6\n",
    "*******\n",
    "### **Tujuan Pembelajaran**\n",
    "\n",
    "1. Mengenali dan memperbaiki kesalahan penulisan (syntax error).\n",
    "\n",
    "2. Memahami pesan error Python dan mengetahui letak kesalahan.\n",
    "\n",
    "3. Menangani error agar program tidak berhenti mendadak dengan try-except.\n",
    "\n",
    "\n",
    "*****\n",
    "\n",
    "\n",
    "## Debugging dalam Python\n"
   ]
  },
  {
   "cell_type": "markdown",
   "id": "bf510c38",
   "metadata": {},
   "source": [
    "**Debugging** adalah proses **mendeteksi, menganalisis, dan memperbaiki** kesalahan (bug) dalam kode program.\n",
    "\n",
    "Istilah “bug” merujuk pada kesalahan yang menyebabkan program berjalan tidak sesuai harapan, error, atau berhenti total.\n",
    "\n",
    "**Kenapa Debugging Penting?**\n",
    "\n",
    "- Membuat program bebas error\n",
    "\n",
    "- Menjamin program berjalan sesuai tujuan\n",
    "\n",
    "- Membantu kamu memahami alur dan logika kode\n",
    "\n",
    "- Meningkatkan kualitas dan keandalan software\n",
    "\n",
    "#### Tahapan dalam Proses Debugging\n",
    "\n",
    "| Tahap              | Penjelasan                                                     |\n",
    "| ------------------ | -------------------------------------------------------------- |\n",
    "| 1. Deteksi         | Menemukan **bagian kode** yang menyebabkan error / hasil salah |\n",
    "| 2. Analisis        | Membaca error / uji logika untuk memahami **penyebab bug**     |\n",
    "| 3. Perbaikan       | Memodifikasi kode untuk memperbaiki bug                        |\n",
    "| 4. Pengujian ulang | Menjalankan kembali program untuk memastikan bug sudah hilang  |\n"
   ]
  },
  {
   "cell_type": "markdown",
   "id": "42a598a7",
   "metadata": {},
   "source": [
    "#### Jenis-Jenis Kesalahan (Bug)\n",
    "\n",
    "| Jenis Error        | Contoh                                                | Penjelasan                               |\n",
    "| ------------------ | ----------------------------------------------------- | ---------------------------------------- |\n",
    "| **Syntax Error**   | `print(\"Hello\"`                                       | Kesalahan penulisan aturan bahasa Python |\n",
    "| **Runtime Error**  | `10 / 0` → ZeroDivisionError                          | Error saat program berjalan              |\n",
    "| **Logic Error**    | Hasil hitung salah, walau tidak ada error             | Logika program tidak sesuai tujuan       |\n",
    "| **Semantic Error** | Salah arti, misalnya pakai `=` padahal maksudnya `==` | Program jalan tapi hasil salah           |\n"
   ]
  },
  {
   "cell_type": "markdown",
   "id": "99adddc6",
   "metadata": {},
   "source": [
    "**********"
   ]
  },
  {
   "cell_type": "markdown",
   "id": "b0183c3f",
   "metadata": {},
   "source": [
    "### 1. Debugging (Kesalahan Penulisan)"
   ]
  },
  {
   "cell_type": "markdown",
   "id": "8d69323d",
   "metadata": {},
   "source": [
    "Syntax Error terjadi saat kita melanggar aturan penulisan Python.\n",
    "\n",
    "Program tidak akan bisa dijalankan hingga kesalahan ini diperbaiki.\n",
    "\n",
    "Contoh kesalahan dalam penulisan :\n",
    "\n",
    "```python\n",
    "print(\"Halo nama saya Vanya\"  # Lupa tanda tutup kurung\n",
    "```\n",
    "\n",
    "Contoh Perbaikan :\n",
    "\n",
    "```python\n",
    "print(\"Halo nama saya Vanya\")  # Sudah benar\n",
    "```\n"
   ]
  },
  {
   "cell_type": "code",
   "execution_count": null,
   "id": "0042d2cf",
   "metadata": {},
   "outputs": [],
   "source": [
    "# Syntax Error\n",
    "if angka > 10   # lupa titik dua\n",
    "    print(\"Lebih dari 10\")"
   ]
  },
  {
   "cell_type": "code",
   "execution_count": 1,
   "id": "7888867b",
   "metadata": {},
   "outputs": [
    {
     "ename": "ValueError",
     "evalue": "invalid literal for int() with base 10: 'dua puluh'",
     "output_type": "error",
     "traceback": [
      "\u001b[31m---------------------------------------------------------------------------\u001b[39m",
      "\u001b[31mValueError\u001b[39m                                Traceback (most recent call last)",
      "\u001b[36mCell\u001b[39m\u001b[36m \u001b[39m\u001b[32mIn[1]\u001b[39m\u001b[32m, line 2\u001b[39m\n\u001b[32m      1\u001b[39m \u001b[38;5;66;03m# Input Error atau Value Error\u001b[39;00m\n\u001b[32m----> \u001b[39m\u001b[32m2\u001b[39m usia = \u001b[38;5;28;43mint\u001b[39;49m\u001b[43m(\u001b[49m\u001b[38;5;28;43minput\u001b[39;49m\u001b[43m(\u001b[49m\u001b[33;43m\"\u001b[39;49m\u001b[33;43mMasukkan usia: \u001b[39;49m\u001b[33;43m\"\u001b[39;49m\u001b[43m)\u001b[49m\u001b[43m)\u001b[49m\n\u001b[32m      3\u001b[39m \u001b[38;5;28mprint\u001b[39m(\u001b[33m\"\u001b[39m\u001b[33mUsia Anda adalah\u001b[39m\u001b[33m\"\u001b[39m, usia)\n\u001b[32m      4\u001b[39m \u001b[38;5;66;03m# Coba input huruf, akan error\u001b[39;00m\n",
      "\u001b[31mValueError\u001b[39m: invalid literal for int() with base 10: 'dua puluh'"
     ]
    }
   ],
   "source": [
    "# Input Error atau Value Error\n",
    "usia = int(input(\"Masukkan usia: \"))\n",
    "print(\"Usia Anda adalah\", usia)\n",
    "# Coba input huruf, akan error"
   ]
  },
  {
   "cell_type": "markdown",
   "id": "aa762b6e",
   "metadata": {},
   "source": [
    "### 2. Debugging (Reading Error)"
   ]
  },
  {
   "cell_type": "markdown",
   "id": "b511a828",
   "metadata": {},
   "source": [
    "Python memberikan pesan error lengkap ketika terjadi kesalahan.\n",
    "Contoh error umum:\n",
    "\n",
    "- SyntaxError\n",
    "\n",
    "- NameError\n",
    "\n",
    "- TypeError\n",
    "\n",
    "- IndexError\n",
    "\n",
    "- ValueError\n",
    "\n",
    "Contoh Kasus dan penjelasan :\n",
    "\n",
    "```python\n",
    "angka = input(\"Masukkan angka: \")\n",
    "print(angka + 10)  # Error karena angka adalah string\n",
    "```\n",
    "\n",
    "Perbaikan :\n",
    "\n",
    "```python\n",
    "angka = int(input(\"Masukkan angka: \"))\n",
    "print(angka + 10)\n",
    "```\n",
    "\n",
    "\n",
    "**Tips membaca error :**\n",
    "\n",
    "- Perhatikan baris error muncul.\n",
    "\n",
    "- Cek tipe error dan pelajari artinya.\n",
    "\n",
    "- Baca pesan penjelasan yang diberikan Python.\n"
   ]
  },
  {
   "cell_type": "code",
   "execution_count": 3,
   "id": "0d445d8d",
   "metadata": {},
   "outputs": [
    {
     "ename": "SyntaxError",
     "evalue": "expected ':' (205633070.py, line 2)",
     "output_type": "error",
     "traceback": [
      "  \u001b[36mCell\u001b[39m\u001b[36m \u001b[39m\u001b[32mIn[3]\u001b[39m\u001b[32m, line 2\u001b[39m\n\u001b[31m    \u001b[39m\u001b[31mif True\u001b[39m\n           ^\n\u001b[31mSyntaxError\u001b[39m\u001b[31m:\u001b[39m expected ':'\n"
     ]
    }
   ],
   "source": [
    "# Synta;x Error\n",
    "if True\n",
    "    print(\"Hello\")\n"
   ]
  },
  {
   "cell_type": "code",
   "execution_count": 2,
   "id": "3427c584",
   "metadata": {},
   "outputs": [
    {
     "name": "stdout",
     "output_type": "stream",
     "text": [
      "Hello\n"
     ]
    }
   ],
   "source": [
    "# Perbaikan Syntax Error\n",
    "if True:\n",
    "    print(\"Hello\")\n"
   ]
  },
  {
   "cell_type": "code",
   "execution_count": 5,
   "id": "05bc5fdf",
   "metadata": {},
   "outputs": [
    {
     "ename": "NameError",
     "evalue": "name 'nama' is not defined",
     "output_type": "error",
     "traceback": [
      "\u001b[31m---------------------------------------------------------------------------\u001b[39m",
      "\u001b[31mNameError\u001b[39m                                 Traceback (most recent call last)",
      "\u001b[36mCell\u001b[39m\u001b[36m \u001b[39m\u001b[32mIn[5]\u001b[39m\u001b[32m, line 2\u001b[39m\n\u001b[32m      1\u001b[39m \u001b[38;5;66;03m# Name Error\u001b[39;00m\n\u001b[32m----> \u001b[39m\u001b[32m2\u001b[39m \u001b[38;5;28mprint\u001b[39m(\u001b[43mnama\u001b[49m)\n",
      "\u001b[31mNameError\u001b[39m: name 'nama' is not defined"
     ]
    }
   ],
   "source": [
    "# Name Error\n",
    "print(nama)"
   ]
  },
  {
   "cell_type": "code",
   "execution_count": 6,
   "id": "636a49dd",
   "metadata": {},
   "outputs": [
    {
     "name": "stdout",
     "output_type": "stream",
     "text": [
      "Halo Isi nama\n"
     ]
    }
   ],
   "source": [
    "# Perbaikan Name Error\n",
    "nama = \"Isi nama\"\n",
    "print(f\"Halo {nama}\")"
   ]
  },
  {
   "cell_type": "code",
   "execution_count": 7,
   "id": "6fcdcb2a",
   "metadata": {},
   "outputs": [
    {
     "ename": "TypeError",
     "evalue": "unsupported operand type(s) for +: 'int' and 'str'",
     "output_type": "error",
     "traceback": [
      "\u001b[31m---------------------------------------------------------------------------\u001b[39m",
      "\u001b[31mTypeError\u001b[39m                                 Traceback (most recent call last)",
      "\u001b[36mCell\u001b[39m\u001b[36m \u001b[39m\u001b[32mIn[7]\u001b[39m\u001b[32m, line 4\u001b[39m\n\u001b[32m      2\u001b[39m angka = \u001b[32m10\u001b[39m\n\u001b[32m      3\u001b[39m kata = \u001b[33m\"\u001b[39m\u001b[33mlima\u001b[39m\u001b[33m\"\u001b[39m\n\u001b[32m----> \u001b[39m\u001b[32m4\u001b[39m \u001b[38;5;28mprint\u001b[39m(\u001b[43mangka\u001b[49m\u001b[43m \u001b[49m\u001b[43m+\u001b[49m\u001b[43m \u001b[49m\u001b[43mkata\u001b[49m)\n",
      "\u001b[31mTypeError\u001b[39m: unsupported operand type(s) for +: 'int' and 'str'"
     ]
    }
   ],
   "source": [
    "# Type Error\n",
    "angka = 10\n",
    "kata = \"lima\"\n",
    "print(angka + kata)\n"
   ]
  },
  {
   "cell_type": "code",
   "execution_count": 10,
   "id": "c31c3bf7",
   "metadata": {},
   "outputs": [
    {
     "name": "stdout",
     "output_type": "stream",
     "text": [
      "15\n"
     ]
    }
   ],
   "source": [
    "# Perbaikan Type Error\n",
    "angka = 10\n",
    "kata = \"5\"\n",
    "print(angka + int(kata))"
   ]
  },
  {
   "cell_type": "code",
   "execution_count": 12,
   "id": "8fb70913",
   "metadata": {},
   "outputs": [
    {
     "name": "stdout",
     "output_type": "stream",
     "text": [
      "jeruk\n"
     ]
    }
   ],
   "source": [
    "# Index Error\n",
    "buah = [\"apel\", \"mangga\", \"jeruk\"]\n",
    "print(buah[5])"
   ]
  },
  {
   "cell_type": "code",
   "execution_count": null,
   "id": "a862b486",
   "metadata": {},
   "outputs": [],
   "source": [
    "# Perbaikan Index Error\n",
    "buah = [\"apel\", \"mangga\", \"jeruk\"]\n",
    "print(buah[2])  # Maksimal indeks 2 (karena total 3 elemen)"
   ]
  },
  {
   "cell_type": "code",
   "execution_count": 14,
   "id": "ccfeeede",
   "metadata": {},
   "outputs": [],
   "source": [
    "# Value Error\n",
    "angka = str(\"satu\")"
   ]
  },
  {
   "cell_type": "code",
   "execution_count": null,
   "id": "a25c7556",
   "metadata": {},
   "outputs": [],
   "source": [
    "# Perbaikan Value Error\n",
    "try:\n",
    "    angka = int(\"satu\")\n",
    "except ValueError:\n",
    "    print(\"Masukkan harus berupa angka!\")\n"
   ]
  },
  {
   "cell_type": "code",
   "execution_count": 20,
   "id": "e8e15f76",
   "metadata": {},
   "outputs": [
    {
     "name": "stdout",
     "output_type": "stream",
     "text": [
      "Ganjil\n"
     ]
    }
   ],
   "source": [
    "# Logic Error\n",
    "angka = 10\n",
    "if angka % 2 == 1:   # Salah! Ini justru mengecek ganjil\n",
    "    print(\"Genap\")\n",
    "else:\n",
    "    print(\"Ganjil\")\n"
   ]
  },
  {
   "cell_type": "code",
   "execution_count": 21,
   "id": "917582e9",
   "metadata": {},
   "outputs": [
    {
     "name": "stdout",
     "output_type": "stream",
     "text": [
      "Genap\n"
     ]
    }
   ],
   "source": [
    "# Perbaikan Logic error\n",
    "angka = 10\n",
    "if angka % 2 == 0:  \n",
    "    print(\"Genap\")\n",
    "else:\n",
    "    print(\"Ganjil\")"
   ]
  },
  {
   "cell_type": "code",
   "execution_count": 24,
   "id": "217ff5c4",
   "metadata": {},
   "outputs": [
    {
     "name": "stdout",
     "output_type": "stream",
     "text": [
      "Luas persegi panjang adalah: 5\n"
     ]
    }
   ],
   "source": [
    "# Semantic Error\n",
    "panjang = 10\n",
    "lebar = 5\n",
    "\n",
    "luas = panjang + lebar   # Salah! Seharusnya perkalian\n",
    "print(\"Luas persegi panjang adalah:\", luas)\n"
   ]
  },
  {
   "cell_type": "code",
   "execution_count": null,
   "id": "f15c5330",
   "metadata": {},
   "outputs": [],
   "source": [
    "# Perbaikan Semantic Error\n",
    "panjang = 10\n",
    "lebar = 5\n",
    "\n",
    "luas = panjang * lebar   # Salah! Seharusnya perkalian\n",
    "print(\"Luas persegi panjang adalah:\", luas)"
   ]
  },
  {
   "cell_type": "markdown",
   "id": "e0dbdc93",
   "metadata": {},
   "source": [
    "### 3. Debugging (Try Exception)"
   ]
  },
  {
   "cell_type": "markdown",
   "id": "a968552d",
   "metadata": {},
   "source": [
    "Gunakan try-except untuk menangani error agar program tidak berhenti tiba-tiba.\n",
    "\n",
    "Cocok digunakan saat input user, pembacaan file, atau koneksi jaringan.\n",
    "\n",
    "Bentuk Umum :\n",
    "\n",
    "```python\n",
    "try:\n",
    "    # kode yang mungkin error\n",
    "    ...\n",
    "except ErrorType:\n",
    "    # aksi jika error\n",
    "    ...\n",
    "else:\n",
    "    # jika tidak error\n",
    "    ...\n",
    "finally:\n",
    "    # dijalankan selalu, error atau tidak\n",
    "    ...\n",
    "```\n",
    "\n",
    "| Blok      | Fungsi                                                                  |\n",
    "| --------- | ----------------------------------------------------------------------- |\n",
    "| `try`     | Tempat kode utama yang bisa menyebabkan error                           |\n",
    "| `except`  | Menangani error tertentu (`ZeroDivisionError`, `ValueError`, dll.)      |\n",
    "| `else`    | Dijalankan **hanya jika** tidak terjadi error                           |\n",
    "| `finally` | Dijalankan **selalu**, mau error atau tidak (biasa untuk bersih-bersih) |\n",
    "\n",
    "**Kok If else sama Try Except hampir sama sih ? Yakin ?**\n",
    "\n",
    "| Aspek             | `try-except`                                           | `if-else`                                      |\n",
    "| ----------------- | ------------------------------------------------------ | ---------------------------------------------- |\n",
    "| **Fungsi utama**  | Menangani **error/exception** saat program berjalan    | Mengontrol **logika kondisi** dalam program    |\n",
    "| **Waktu deteksi** | Error **terjadi saat program dijalankan**              | Kondisi **diperiksa sebelum** menjalankan kode |\n",
    "| **Tujuan utama**  | Menangani kejadian tak terduga                         | Mengarahkan alur logika program                |\n",
    "| **Cocok untuk**   | Error input, pembagian 0, file tidak ditemukan         | Perbandingan nilai, logika biasa               |\n",
    "| **Contoh kasus**  | `ValueError`, `ZeroDivisionError`, `FileNotFoundError` | Cek apakah `x > 10`, `nama == \"Budi\"`, dll     |\n",
    "\n",
    "\n",
    "#### Contoh Dasar\n",
    "\n",
    "```python\n",
    "try:\n",
    "    angka = int(input(\"Masukkan angka: \"))\n",
    "    print(angka + 10)\n",
    "except ValueError:\n",
    "    print(\"❌ Masukkan harus berupa angka!\")\n",
    "```\n",
    "\n",
    "#### **Fungsi Try-Except**\n",
    "\n",
    "1. Mencegah Program Crash\n",
    "\n",
    "2. Menangani Error dengan Cara Sendiri\n",
    "\n",
    "3. Membuat Program Lebih Tangguh & User Friendly\n",
    "\n",
    "#### **Kira-kira kapan ya digunakan ?**\n",
    "\n",
    "- Input dari user (rawan kesalahan)\n",
    "\n",
    "- File handling (open(), read())\n",
    "\n",
    "- Operasi matematika (misal: pembagian nol)\n",
    "\n",
    "- Koneksi jaringan/API (bisa timeout)\n",
    "\n",
    "- Akses data (misal: index out of range)"
   ]
  },
  {
   "cell_type": "code",
   "execution_count": 26,
   "id": "c36c6ad9",
   "metadata": {},
   "outputs": [
    {
     "name": "stdout",
     "output_type": "stream",
     "text": [
      "=== Kalkulator Tambah ===\n",
      "Input tidak valid! Harus angka.\n"
     ]
    }
   ],
   "source": [
    "# Kalkulator\n",
    "# Menangani input error menggunakan try-except\n",
    "\n",
    "print(\"=== Kalkulator Tambah ===\")\n",
    "try:\n",
    "    a = float(input(\"Masukkan angka pertama: \"))\n",
    "    b = float(input(\"Masukkan angka kedua: \"))\n",
    "    hasil = a + b\n",
    "    print(f\"Hasil penjumlahan: {hasil}\")\n",
    "except ValueError:\n",
    "    print(\"Input tidak valid! Harus angka.\")"
   ]
  },
  {
   "cell_type": "code",
   "execution_count": null,
   "id": "78969997",
   "metadata": {},
   "outputs": [
    {
     "name": "stdout",
     "output_type": "stream",
     "text": [
      "Hasilnya: 0\n"
     ]
    }
   ],
   "source": [
    "# Debug Try Catch Input Angka\n",
    "try:\n",
    "    angka = int(input(\"Masukkan angka: \"))\n",
    "    hasil = 10 / angka\n",
    "    print(\"Hasilnya:\", hasil)\n",
    "except ValueError:\n",
    "    print(\"Input bukan angka.\")\n",
    "except ZeroDivisionError:\n",
    "    print(\"Tidak bisa dibagi dengan nol.\")\n"
   ]
  },
  {
   "cell_type": "code",
   "execution_count": 30,
   "id": "818eb606",
   "metadata": {},
   "outputs": [
    {
     "name": "stdout",
     "output_type": "stream",
     "text": [
      "📋 Pendaftaran Mahasiswa Baru\n",
      "\n",
      "✅ Pendaftaran berhasil!\n",
      "Nama: bayan\n",
      "Usia: 20 tahun\n"
     ]
    }
   ],
   "source": [
    "# Debugging Try Catch Dafat Mahasiswa Baru\n",
    "print(\"📋 Pendaftaran Mahasiswa Baru\\n\")\n",
    "\n",
    "try:\n",
    "    nama = input(\"Masukkan nama lengkap: \")\n",
    "    usia = int(input(\"Masukkan usia: \"))\n",
    "    \n",
    "    if usia < 15:\n",
    "        print(\"❌ Usia terlalu muda untuk mendaftar.\")\n",
    "    else:\n",
    "        print(f\"✅ Pendaftaran berhasil!\\nNama: {nama}\\nUsia: {usia} tahun\")\n",
    "except ValueError:\n",
    "    print(\"⚠️ Pastikan usia yang dimasukkan adalah angka!\")\n"
   ]
  },
  {
   "cell_type": "code",
   "execution_count": null,
   "id": "8cec4be2",
   "metadata": {},
   "outputs": [
    {
     "name": "stdout",
     "output_type": "stream",
     "text": [
      "=== Program Pembagian ===\n",
      "❌ Tidak bisa dibagi dengan nol!\n",
      "📌 Program selesai dijalankan.\n"
     ]
    }
   ],
   "source": [
    "try:\n",
    "    print(\"=== Program Pembagian ===\")\n",
    "    a = float(input(\"Masukkan angka pertama: \"))\n",
    "    b = float(input(\"Masukkan angka kedua: \"))\n",
    "    \n",
    "    hasil = a / b  # berpotensi error jika b = 0\n",
    "\n",
    "except ZeroDivisionError:\n",
    "    print(\"❌ Tidak bisa dibagi dengan nol!\")\n",
    "\n",
    "except ValueError:\n",
    "    print(\"⚠️ Input harus berupa angka!\")\n",
    "\n",
    "else:\n",
    "    print(f\"✅ Hasil pembagian: {hasil}\")\n",
    "\n",
    "finally:\n",
    "    print(\"📌 Program selesai dijalankan.\")\n"
   ]
  },
  {
   "cell_type": "markdown",
   "id": "833d0c08",
   "metadata": {},
   "source": [
    "### Perbedaan Debugging Masing2\n",
    "\n",
    "| Teknik Debugging    | Fokus Utama                                     | Contoh Kasus                            |\n",
    "| ------------------- | ----------------------------------------------- | --------------------------------------- |\n",
    "| Kesalahan Penulisan | Perbaiki typo / sintaks yang salah              | Lupa `:` di `if`, kurung tidak lengkap  |\n",
    "| Reading Error       | Membaca & pahami pesan error Python             | `TypeError`, `NameError`, `IndexError`  |\n",
    "| Try Exception       | Menangani error agar tidak menghentikan program | Input bukan angka, file tidak ditemukan |\n"
   ]
  },
  {
   "cell_type": "markdown",
   "id": "a190c647",
   "metadata": {},
   "source": [
    "********"
   ]
  },
  {
   "cell_type": "markdown",
   "id": "0818b5aa",
   "metadata": {},
   "source": [
    "## Latihan Debugging"
   ]
  },
  {
   "cell_type": "code",
   "execution_count": null,
   "id": "9da58cc7",
   "metadata": {},
   "outputs": [],
   "source": [
    "# Soal 1\n",
    "\n",
    "# Tujuan: Menampilkan teks ke layar\n",
    "\n",
    "print(\"Halo nama saya Budi\")\n"
   ]
  },
  {
   "cell_type": "code",
   "execution_count": 37,
   "id": "049c295e",
   "metadata": {},
   "outputs": [
    {
     "name": "stdout",
     "output_type": "stream",
     "text": [
      "Hasil kali dua: 20\n"
     ]
    }
   ],
   "source": [
    "# Soal 2\n",
    "\n",
    "# Tujuan: Mengalikan angka input user\n",
    "\n",
    "angka = int(input(\"Masukkan angka: \"))\n",
    "print(f\"Hasil kali dua: {angka * 2}\")\n"
   ]
  },
  {
   "cell_type": "code",
   "execution_count": null,
   "id": "597fe94d",
   "metadata": {},
   "outputs": [
    {
     "name": "stdout",
     "output_type": "stream",
     "text": [
      "genap\n",
      "Luas persegi panjang adalah: 24\n"
     ]
    }
   ],
   "source": [
    "# Soal 3\n",
    "\n",
    "# Tujuan: Menghitung luas persegi panjang\n",
    "\n",
    "panjang = 6\n",
    "lebar = 4\n",
    "luas = panjang * lebar\n",
    "\n",
    "print(f\"genap\" if luas % 2 == 0 else \"ganjil\")\n",
    "\n",
    "print(\"Luas persegi panjang adalah:\", luas)\n"
   ]
  },
  {
   "cell_type": "code",
   "execution_count": 42,
   "id": "b72d3909",
   "metadata": {},
   "outputs": [
    {
     "name": "stdout",
     "output_type": "stream",
     "text": [
      "Buah terakhir: pisang\n"
     ]
    }
   ],
   "source": [
    "# Soal 4\n",
    "\n",
    "# Tujuan: Menampilkan item terakhir dari list\n",
    "\n",
    "buah = [\"apel\", \"jeruk\", \"pisang\"]\n",
    "print(f\"Buah terakhir: {buah[2]}\")\n"
   ]
  },
  {
   "cell_type": "code",
   "execution_count": 45,
   "id": "cc024b98",
   "metadata": {},
   "outputs": [
    {
     "name": "stdout",
     "output_type": "stream",
     "text": [
      "masukan angka\n"
     ]
    }
   ],
   "source": [
    "# Soal 5\n",
    "\n",
    "# Tujuan: Program minta input angka lalu bagi 100 dengan angka tsb\n",
    "\n",
    "try:\n",
    "    angka = int(input(\"Masukkan angka pembagi: \"))\n",
    "    hasil = 100 / angka\n",
    "    print(f\"Hasilnya:, {hasil}\")\n",
    "\n",
    "# Bug: Program tetap error kalau input huruf\n",
    "except ValueError :\n",
    "    print(\"masukan angka\")\n",
    "\n",
    "except ZeroDivisionError:\n",
    "    print(\"Angka tidak boleh 0\")\n"
   ]
  },
  {
   "cell_type": "markdown",
   "id": "12418416",
   "metadata": {},
   "source": [
    "********"
   ]
  },
  {
   "cell_type": "markdown",
   "id": "e59eb078",
   "metadata": {},
   "source": [
    "## Latihan Debugging Set 2"
   ]
  },
  {
   "cell_type": "code",
   "execution_count": null,
   "id": "4bb72bd2",
   "metadata": {},
   "outputs": [
    {
     "name": "stdout",
     "output_type": "stream",
     "text": [
      "Hasil penjumlahan adalah:  30\n"
     ]
    }
   ],
   "source": [
    "# Soal 1\n",
    "# Tujuan: Menjumlahkan dua angka\n",
    "\n",
    "a = 10\n",
    "b = 20\n",
    "print(f\"Hasil penjumlahan adalah: {a + b}\")\n"
   ]
  },
  {
   "cell_type": "code",
   "execution_count": 56,
   "id": "883d65ca",
   "metadata": {},
   "outputs": [
    {
     "name": "stdout",
     "output_type": "stream",
     "text": [
      "Hasilnya: 20\n"
     ]
    }
   ],
   "source": [
    "# Soal 2\n",
    "\n",
    "# Tujuan: Mengonversi input ke integer dan kalikan 2\n",
    "\n",
    "angka = int(input(\"Masukkan angka: \"))\n",
    "hasil = angka * 2\n",
    "print(f\"Hasilnya: {hasil}\")\n"
   ]
  },
  {
   "cell_type": "code",
   "execution_count": 59,
   "id": "f179f029",
   "metadata": {},
   "outputs": [
    {
     "name": "stdout",
     "output_type": "stream",
     "text": [
      "Hewan ketiga adalah: kelinci\n"
     ]
    }
   ],
   "source": [
    "# Soal 3\n",
    "\n",
    "# Tujuan: Menampilkan item ketiga dalam list\n",
    "\n",
    "hewan = [\"kucing\", \"anjing\", \"kelinci\"]\n",
    "print(f\"Hewan ketiga adalah: {hewan[2]}\")"
   ]
  },
  {
   "cell_type": "code",
   "execution_count": 62,
   "id": "18d64b46",
   "metadata": {},
   "outputs": [
    {
     "name": "stdout",
     "output_type": "stream",
     "text": [
      "1\n",
      "2\n",
      "3\n",
      "4\n",
      "5\n"
     ]
    }
   ],
   "source": [
    "# Soal 4\n",
    "\n",
    "# Tujuan: Menampilkan angka dari 1 hingga 5\n",
    "\n",
    "for i in range(1, 6):\n",
    "    print(i)\n"
   ]
  },
  {
   "cell_type": "code",
   "execution_count": 65,
   "id": "9e4083bd",
   "metadata": {},
   "outputs": [
    {
     "name": "stdout",
     "output_type": "stream",
     "text": [
      "Hasil pembagian: 1.0\n",
      "program selesai\n"
     ]
    }
   ],
   "source": [
    "# Soal 5\n",
    "\n",
    "# Tujuan: Minta user masukkan dua angka, lalu bagi\n",
    "\n",
    "try:\n",
    "    a = int(input(\"Masukkan angka pertama: \"))\n",
    "    b = int(input(\"Masukkan angka kedua: \"))\n",
    "    print(f\"Hasil pembagian: {a / b}\")\n",
    "\n",
    "\n",
    "except ValueError:\n",
    "    print(\"tolong masukkan angka\")\n",
    "\n",
    "except ZeroDivisionError:\n",
    "    print(\"g boleh angka 0\")\n",
    "\n",
    "finally:\n",
    "    print(\"program selesai\")\n"
   ]
  }
 ],
 "metadata": {
  "kernelspec": {
   "display_name": ".venv",
   "language": "python",
   "name": "python3"
  },
  "language_info": {
   "codemirror_mode": {
    "name": "ipython",
    "version": 3
   },
   "file_extension": ".py",
   "mimetype": "text/x-python",
   "name": "python",
   "nbconvert_exporter": "python",
   "pygments_lexer": "ipython3",
   "version": "3.13.2"
  }
 },
 "nbformat": 4,
 "nbformat_minor": 5
}
