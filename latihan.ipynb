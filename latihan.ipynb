{
 "cells": [
  {
   "cell_type": "code",
   "execution_count": null,
   "id": "e70547c5",
   "metadata": {},
   "outputs": [],
   "source": [
    "\n",
    "\n",
    "nama = input(\"masukan nama kamu :\")\n",
    "usia = input(\"masukan usia kamu :\")\n",
    "print (\"halo,\"+ nama + \" kamu berusia,\" + usia + \" tahun,\")\n",
    "\n",
    "a = 10\n",
    "b = 15\n",
    "print(a+b)\n",
    "print(a-b)\n",
    "print(a/b)\n",
    "print(a*b)"
   ]
  },
  {
   "cell_type": "code",
   "execution_count": null,
   "id": "89c7d028",
   "metadata": {},
   "outputs": [],
   "source": [
    "var = 10\n",
    "print(var * 10)\n",
    "#jadi ga mesti pake print buat nampilin tp cmn bisa per blok 1\n",
    "\n",
    "var1= 'haha'\n",
    "var1 * 4\n",
    "type(var1)\n",
    "\n"
   ]
  },
  {
   "cell_type": "code",
   "execution_count": null,
   "id": "d8c7c8b7",
   "metadata": {},
   "outputs": [],
   "source": [
    "var = 10\n",
    "var"
   ]
  },
  {
   "cell_type": "code",
   "execution_count": null,
   "id": "6f9f68c7",
   "metadata": {},
   "outputs": [],
   "source": [
    "import pandas as pd\n",
    "TrSet = pd.read_csv (\"TrSet.csv\")\n",
    "\n",
    "TrSet"
   ]
  },
  {
   "cell_type": "code",
   "execution_count": null,
   "id": "5298231e",
   "metadata": {},
   "outputs": [],
   "source": [
    "TrSet.head() #head berguna buat nampilin 5 teratas"
   ]
  },
  {
   "cell_type": "code",
   "execution_count": null,
   "id": "ede57327",
   "metadata": {},
   "outputs": [],
   "source": [
    "TrSet[['CUST_NO','VTG']].head() #kurung siku gunanya buat nampilin yang kita mau aja"
   ]
  },
  {
   "cell_type": "code",
   "execution_count": null,
   "id": "eb5bf585",
   "metadata": {},
   "outputs": [],
   "source": [
    "TrSet.iloc[1,2] # .iLoc gunanya buat nampilin yang kita mau\n",
    "                #1 = baris 2 = kolom"
   ]
  },
  {
   "cell_type": "code",
   "execution_count": null,
   "id": "5c6ee817",
   "metadata": {},
   "outputs": [],
   "source": [
    "TrSet.iloc[1:5 ,1:3]"
   ]
  },
  {
   "cell_type": "code",
   "execution_count": null,
   "id": "ca0f97e8",
   "metadata": {},
   "outputs": [],
   "source": [
    "TrSet.iloc[:, 1:6]"
   ]
  },
  {
   "cell_type": "code",
   "execution_count": null,
   "id": "d68c10ee",
   "metadata": {},
   "outputs": [],
   "source": [
    "p = TrSet[['CUST_NO']]\n",
    "p.head()"
   ]
  },
  {
   "cell_type": "code",
   "execution_count": null,
   "id": "9ef65758",
   "metadata": {},
   "outputs": [],
   "source": [
    "\n",
    "TrSet.head()"
   ]
  },
  {
   "cell_type": "code",
   "execution_count": null,
   "id": "650acf15",
   "metadata": {},
   "outputs": [],
   "source": [
    "TrSet.drop('CUST_NO', axis= 1) # drop gunanya buat ngilangin\n"
   ]
  },
  {
   "cell_type": "code",
   "execution_count": null,
   "id": "e47a73e1",
   "metadata": {},
   "outputs": [],
   "source": [
    "TrSet = pd.merge(p, TrSet, how='left', left_index= True, right_index=True)\n",
    "# merge gunanya buat balikin"
   ]
  },
  {
   "cell_type": "code",
   "execution_count": null,
   "id": "ec995bbd",
   "metadata": {},
   "outputs": [],
   "source": [
    "TrSet.head()"
   ]
  },
  {
   "cell_type": "code",
   "execution_count": null,
   "id": "0e64d785",
   "metadata": {},
   "outputs": [],
   "source": [
    "TrSet.drop('CUST_NO_x', axis= (1))"
   ]
  },
  {
   "cell_type": "code",
   "execution_count": null,
   "id": "6b771aff",
   "metadata": {},
   "outputs": [],
   "source": [
    "# bealajar export file\n",
    "\n",
    "varExport = TrSet[['CUST_NO_y','VTG','AGETIER']]\n",
    "varExport"
   ]
  },
  {
   "cell_type": "code",
   "execution_count": null,
   "id": "0119e658",
   "metadata": {},
   "outputs": [],
   "source": [
    "!pip install XlsxWriter"
   ]
  },
  {
   "cell_type": "code",
   "execution_count": null,
   "id": "9e16ae07",
   "metadata": {},
   "outputs": [],
   "source": [
    "path = r'C:\\Users\\HYPE AMD\\latihan\\jupiter'\n",
    "path"
   ]
  },
  {
   "cell_type": "code",
   "execution_count": null,
   "id": "a2d00200",
   "metadata": {},
   "outputs": [],
   "source": [
    "path = r'C:\\Users\\HYPE AMD\\latihan\\jupiter\\latihan.xlsx'\n",
    "with pd.ExcelWriter(path, engine= 'xlsxwriter') as writer :\n",
    "    varExport.to_excel(writer, sheet_name= 'nama halaman')\n",
    "    # pake with buat buka dan tutup nya\n"
   ]
  },
  {
   "cell_type": "code",
   "execution_count": null,
   "id": "a19c4f42",
   "metadata": {},
   "outputs": [],
   "source": [
    "varExport.to_csv('fileExportCsv.csv', index= False)"
   ]
  },
  {
   "cell_type": "code",
   "execution_count": null,
   "id": "40e10d02",
   "metadata": {},
   "outputs": [],
   "source": [
    "#latihan while loop\n",
    "nama = input(\"masukan nama mu\")\n",
    "\n",
    "while nama == \"\" :\n",
    "  print(\"masukan namamu\")\n",
    "\n",
    "print(f\"halo {nama}\")"
   ]
  },
  {
   "cell_type": "code",
   "execution_count": null,
   "id": "8a4e37fc",
   "metadata": {},
   "outputs": [],
   "source": [
    "i = 0\n",
    "while i < 10 :\n",
    "    i+=1\n",
    "    print(i)"
   ]
  },
  {
   "cell_type": "code",
   "execution_count": null,
   "id": "bd1782c3",
   "metadata": {},
   "outputs": [],
   "source": [
    "umur = int(input(\"masukan umur mu nak\"))\n",
    "\n",
    "while umur < 17 :\n",
    "    print(\"blm cukup umur\")\n",
    "    umur = int(input(\"masukan umur\"))\n",
    "\n",
    "print(f\"kamu berumur {umur}\")"
   ]
  },
  {
   "cell_type": "code",
   "execution_count": null,
   "id": "206868aa",
   "metadata": {},
   "outputs": [],
   "source": [
    "while True :\n",
    "    print(\"menu restoran\")\n",
    "    print(\"1,apa aja\")\n",
    "    print(\"2,kepo aja\")\n",
    "    print(\"3,bebas\")\n",
    "    print(\"4,bebas la\")\n",
    "\n",
    "\n",
    "    pilihan = input(\"masukan nomor menu\")\n",
    "\n",
    "    if pilihan == \"1\":\n",
    "        print(\"kamu memilih apa aja\")\n",
    "\n",
    "    elif pilihan == \"2\" :\n",
    "        print(\"kamu milih kepo aja\")\n",
    "    elif pilihan == \"3\" :\n",
    "        print(\"kamu pilih bebas\")\n",
    "    elif pilihan == \"4\" :\n",
    "        print(\"kamu milih bebas la\")\n",
    "        break\n",
    "\n",
    "    else :\n",
    "        print(\"masukin nomor yg bener\")\n",
    "    \n"
   ]
  },
  {
   "cell_type": "code",
   "execution_count": null,
   "id": "8eb6a80f",
   "metadata": {},
   "outputs": [],
   "source": [
    "pokok = 0\n",
    "bunga = 0\n",
    "tahun = 0\n",
    "\n",
    "while pokok <= 0 :\n",
    "   pokok = int(input(\"maasukan nominal\"))\n",
    "   if pokok <= 0 :\n",
    "      print(\"jumlah tidak boleh kurang dari 0\")\n",
    "\n",
    "while bunga <= 0 :\n",
    "   bunga = float(input(\"masukan nominal bunga per tahuuun (%)\"))\n",
    "   if bunga <= 0:\n",
    "      print(\"tidak bole kurang dari 0\")\n",
    "\n",
    "while tahun <= 0 :\n",
    "    tahun =  int(input(\"masukan tahun nya\"))\n",
    "    if tahun <= 0 :\n",
    "       print(\"g blh kurang dari 0\")\n",
    "\n",
    "print(f\"pokok : Rp {pokok}\")\n",
    "print(f\"bunga : {bunga}%\")\n",
    "print(f\"tahun : {tahun} tahun\")\n",
    "\n",
    "total = pokok * pow(1 + (bunga / 100), tahun)\n",
    "print(f\"jumlah setelah {tahun} tahun adalah : Rp {total:.2f}\")"
   ]
  },
  {
   "cell_type": "code",
   "execution_count": null,
   "id": "7699236f",
   "metadata": {},
   "outputs": [],
   "source": [
    "daftar_santri = int(input(\"masukan daftar santri\"))\n",
    "daftar_nilai = []\n",
    "\n",
    "for i in range(1, daftar_santri + 1):\n",
    "    nilai = float(input(f\"masukan nilai santri ke - {i}:\"))\n",
    "    daftar_nilai.append(nilai)\n",
    "\n",
    "print(\"\\n daftar nilai santri\")\n",
    "for index, nilai in enumerate(daftar_nilai, start=1):\n",
    "    print(f\"santri ke - {index} : {nilai}\")\n",
    "\n",
    "rata_rata = sum(daftar_nilai) / (daftar_santri)\n",
    "print(f\"rata rata nilai santri : {rata_rata}\")\n",
    "  "
   ]
  },
  {
   "cell_type": "code",
   "execution_count": null,
   "id": "d7187dc4",
   "metadata": {},
   "outputs": [],
   "source": [
    "listSaya = [1,2,3]\n",
    "print(\"anda nomor ke : {listSaya[0]}\") #list itu bisa di ubah ubah\n",
    "\n",
    "tupleSaya = (2,3,4)\n",
    "print(f\"anda nomor ke : {str(tupleSaya[2]):->3}\")#klo tuple dia g bisa di ubah"
   ]
  },
  {
   "cell_type": "code",
   "execution_count": null,
   "id": "81d45d7a",
   "metadata": {},
   "outputs": [],
   "source": [
    "perpustakaan = [(\"penulis\",\"judul\",\"halaman\"),(\"ucup\",\"pertama\",200),(\"wanda\",\"hewan\",300),(\"cecep\",\"biologi\",150)]\n",
    "\n",
    "perpustakaan"
   ]
  },
  {
   "cell_type": "code",
   "execution_count": null,
   "id": "bf327adb",
   "metadata": {},
   "outputs": [],
   "source": [
    "for buku in perpustakaan:\n",
    "    print(f\"nama penulis adalah : {buku[0]}\")"
   ]
  },
  {
   "cell_type": "code",
   "execution_count": null,
   "id": "080beaa6",
   "metadata": {},
   "outputs": [],
   "source": [
    "for penulis,judul,halaman in perpustakaan:\n",
    "    print(f\"{penulis:{10}} {judul:{15}} {halaman:->{15}}\")"
   ]
  },
  {
   "cell_type": "code",
   "execution_count": null,
   "id": "477427fc",
   "metadata": {},
   "outputs": [],
   "source": [
    "vvar = 111,print(\"nomorsaya {vvar}\")"
   ]
  },
  {
   "cell_type": "code",
   "execution_count": null,
   "id": "b1377f56",
   "metadata": {},
   "outputs": [],
   "source": [
    "#1\n",
    "print(\"halo, semua\")\n",
    "print(\"ini adalah program pertama saya\")"
   ]
  },
  {
   "cell_type": "code",
   "execution_count": null,
   "id": "8ae01290",
   "metadata": {},
   "outputs": [],
   "source": [
    "#2\n",
    "nama = input(\"masukan nama kamu\")\n",
    "usia = int(input(\"masukan usia kamu\"))\n",
    "\n",
    "print(f\"halo, {nama} usia kamu {usia} tahun\")"
   ]
  },
  {
   "cell_type": "code",
   "execution_count": null,
   "id": "732b813d",
   "metadata": {},
   "outputs": [],
   "source": [
    "#3\n",
    "a = 10\n",
    "b = 5\n",
    "c = 10\n",
    "d = 5\n",
    "\n",
    "print(f\"hasil dari a + b adalah: {a+b}\")\n",
    "print(f\"hasil dari c - d adalah: {c-d}\")"
   ]
  },
  {
   "cell_type": "code",
   "execution_count": null,
   "id": "5ee8e9e8",
   "metadata": {},
   "outputs": [],
   "source": [
    "#7\n",
    "buah = [\"mangga\",\"melon\",\"apel\",\"pir\"]\n",
    "\n",
    "buah.append(\"apel\")\n",
    "print(buah)\n"
   ]
  },
  {
   "cell_type": "code",
   "execution_count": null,
   "id": "02479801",
   "metadata": {},
   "outputs": [],
   "source": [
    "#8\n",
    "angka = [4,2,9,1,10,12]\n",
    "angka.sort()\n",
    "print(angka)"
   ]
  },
  {
   "cell_type": "code",
   "execution_count": null,
   "id": "f17e9b1d",
   "metadata": {},
   "outputs": [],
   "source": [
    "#9\n",
    "apa_aja = [\n",
    "\n",
    "    {\"nama\":\"bayan\",\"usia\": 10},\n",
    "    {\"nama\":\"p\", \"usia\": 10},\n",
    "    {\"nama\":\"b\", \"usia\": 10}\n",
    "]\n",
    "\n",
    "print(f'{apa_aja[0]}')\n"
   ]
  },
  {
   "cell_type": "code",
   "execution_count": null,
   "id": "f532bf3a",
   "metadata": {},
   "outputs": [],
   "source": [
    "#15\n",
    "nilai = 95\n",
    "\n",
    "if nilai >= 95:\n",
    "    print(\"kamu grade A\")\n",
    "elif nilai >= 80:\n",
    "    print(\"kamu grade B\")\n",
    "elif nilai >= 70 :\n",
    "    print(\"kamu grade C\")\n",
    "elif nilai >= 60 :\n",
    "    print(\"kamu grade D\")\n",
    "elif nilai >= 50 :\n",
    "    print(\"kamu grade E\")\n",
    "else:\n",
    "    print(\"kamu tidak lulus\")"
   ]
  },
  {
   "cell_type": "code",
   "execution_count": null,
   "id": "c9bb3296",
   "metadata": {},
   "outputs": [],
   "source": [
    "#16\n",
    "try:\n",
    " nama = input(\"masukan username\")\n",
    " pw = int(input(\"masukan pw\"))\n",
    "\n",
    " if nama == \"admin\" and pw == \"1234\":\n",
    "    print(\"login berhasil\")\n",
    " if not nama == \"admin\":\n",
    "    print(\"username salah\")\n",
    " else:\n",
    "    print(\"pw salah\")\n",
    "\n",
    "except ValueError:\n",
    "   print(\"pw harus berupa angka\")"
   ]
  },
  {
   "cell_type": "markdown",
   "id": "ccf4a116",
   "metadata": {},
   "source": [
    "alur nya adalah\n",
    "apa bila umur lebih besar sama dengan 17 makan akan tampil\n",
    "(sudah boleh bikin ktp)\n",
    "dan apa bila sudah punya ktp maka akan tampil\n",
    "(dan sudah memiliki ktp)\n",
    "tp apa bila blm punya ktp maka \n",
    "(tapi blm punya ktp silahkan urus ke dukcapil)\n",
    "lalu apa bila blm cukup umur atau kurang dari 17 maka\n",
    "(blm cukup umr jadi bm bisa bikin ktp)\n",
    "lalu apa bila umur kurang dari 10 thn maka\n",
    "(masih terlalu muda)\n",
    "\n",
    "akan tampil\n",
    "(sudah boleh bikin ktp)\n",
    " (tapi blm punya ktp silahkan urus ke dukcapil) karna ada else di dalam if punya ktp atau = false\n",
    "\n",
    "akan keluar blm\n",
    "(masih terlalu muda)\n",
    "karna ada lambang <10\n",
    "\n",
    "(dan sudah memiliki ktp)\n",
    "karna di ktp nya true"
   ]
  },
  {
   "cell_type": "code",
   "execution_count": null,
   "id": "0c24637a",
   "metadata": {},
   "outputs": [],
   "source": [
    "\n",
    "\n",
    "print(\"daftar menu\")\n",
    "print(\"ayam\")\n",
    "print(\"bebek\")\n",
    "print(\"onta\")\n",
    "menu = {\n",
    "    \"1\": \"ayam\",\n",
    "    \"2\": \"bebek\",\n",
    "    \"3\": \"onta\"\n",
    "}\n",
    "while True:\n",
    "    try:\n",
    "     pilih=int(input(\"masukan nomor menu\"))\n",
    "  \n",
    "     if pilih == 1:\n",
    "        print(\"kamu memilih menu ayam\")\n",
    "        break\n",
    "     elif pilih == 2:\n",
    "        print(\"kamu memilih menu bebek\")\n",
    "        break\n",
    "     elif pilih == 3:\n",
    "        print(\"kamu memilih menu onta\")\n",
    "        break\n",
    "     else:\n",
    "        print(\"tidak ada di daftar menu\")\n",
    "\n",
    "    except ValueError :\n",
    "       print(\"pilih mengunakan angka\")\n",
    "\n"
   ]
  },
  {
   "cell_type": "code",
   "execution_count": null,
   "id": "79739f09",
   "metadata": {},
   "outputs": [],
   "source": [
    "for i in range(1,10):\n",
    "    print(i)"
   ]
  },
  {
   "cell_type": "code",
   "execution_count": null,
   "id": "6286c5e2",
   "metadata": {},
   "outputs": [],
   "source": [
    "nama = input(\"masukan nama mu\")\n",
    "umur = int(input(\"masukan umur mu\"))\n",
    "\n",
    "class apa:\n",
    "    def umur(nama,umur):\n",
    "     print(f\"selamat ulang tahun {nama}, kamu berumur {usia}\")\n",
    "\n",
    "     if umur >= 20 :\n",
    "        print(\"kamu sudah tua\")\n",
    "class apa2(apa):\n",
    "   pass\n",
    "\n",
    "b = apa\n",
    "b.umur(nama, umur)\n",
    "\n",
    "    \n"
   ]
  },
  {
   "cell_type": "code",
   "execution_count": null,
   "id": "b26c9eb8",
   "metadata": {},
   "outputs": [],
   "source": [
    "class apa1():\n",
    "    def p():\n",
    "        pass\n",
    "\n",
    "class apa2(apa1):\n",
    "    suara = (\"meong\")\n",
    "\n",
    "b = apa2()\n",
    "b.suara()"
   ]
  },
  {
   "cell_type": "code",
   "execution_count": null,
   "id": "8c311d8d",
   "metadata": {},
   "outputs": [],
   "source": [
    "!python -m spacy download en"
   ]
  },
  {
   "cell_type": "code",
   "execution_count": null,
   "id": "6d7b8238",
   "metadata": {},
   "outputs": [],
   "source": [
    "pip install -U spacy"
   ]
  },
  {
   "cell_type": "code",
   "execution_count": null,
   "id": "32f92bc9",
   "metadata": {},
   "outputs": [],
   "source": [
    "!python -m spacy download en_core_web_sm"
   ]
  },
  {
   "cell_type": "code",
   "execution_count": 12,
   "id": "5bad2832",
   "metadata": {},
   "outputs": [
    {
     "name": "stdout",
     "output_type": "stream",
     "text": [
      "Toyota\n",
      "is\n",
      "looking\n",
      "at\n",
      "acquiring\n",
      "new\n",
      "startup\n",
      "for\n",
      "$\n",
      "1\n",
      "million\n"
     ]
    }
   ],
   "source": [
    "import spacy\n",
    "nlp = spacy.load('en_core_web_sm')\n",
    "\n",
    "\n",
    "doc = nlp(u\"Toyota is looking at acquiring new startup for $1 million\")\n",
    "\n",
    "for token in doc:\n",
    "    print(token.text)"
   ]
  },
  {
   "cell_type": "code",
   "execution_count": 13,
   "id": "234cef23",
   "metadata": {},
   "outputs": [
    {
     "name": "stdout",
     "output_type": "stream",
     "text": [
      "Toyota PROPN\n",
      "is AUX\n",
      "looking VERB\n",
      "at ADP\n",
      "acquiring VERB\n",
      "new ADJ\n",
      "startup NOUN\n",
      "for ADP\n",
      "$ SYM\n",
      "1 NUM\n",
      "million NUM\n"
     ]
    }
   ],
   "source": [
    "for token in doc:\n",
    "    print(token.text, token.pos_)"
   ]
  },
  {
   "cell_type": "code",
   "execution_count": 22,
   "id": "85cfcff9",
   "metadata": {},
   "outputs": [
    {
     "data": {
      "text/html": [
       "<svg xmlns=\"http://www.w3.org/2000/svg\" xmlns:xlink=\"http://www.w3.org/1999/xlink\" xml:lang=\"en\" id=\"92f8817dac60415f95aeef18b4d50fc6-0\" class=\"displacy\" width=\"1975\" height=\"399.5\" direction=\"ltr\" style=\"max-width: none; height: 399.5px; color: #000000; background: #ffffff; font-family: Arial; direction: ltr\">\n",
       "<text class=\"displacy-token\" fill=\"currentColor\" text-anchor=\"middle\" y=\"309.5\">\n",
       "    <tspan class=\"displacy-word\" fill=\"currentColor\" x=\"50\">Toyota</tspan>\n",
       "    <tspan class=\"displacy-tag\" dy=\"2em\" fill=\"currentColor\" x=\"50\">PROPN</tspan>\n",
       "</text>\n",
       "\n",
       "<text class=\"displacy-token\" fill=\"currentColor\" text-anchor=\"middle\" y=\"309.5\">\n",
       "    <tspan class=\"displacy-word\" fill=\"currentColor\" x=\"225\">is</tspan>\n",
       "    <tspan class=\"displacy-tag\" dy=\"2em\" fill=\"currentColor\" x=\"225\">AUX</tspan>\n",
       "</text>\n",
       "\n",
       "<text class=\"displacy-token\" fill=\"currentColor\" text-anchor=\"middle\" y=\"309.5\">\n",
       "    <tspan class=\"displacy-word\" fill=\"currentColor\" x=\"400\">looking</tspan>\n",
       "    <tspan class=\"displacy-tag\" dy=\"2em\" fill=\"currentColor\" x=\"400\">VERB</tspan>\n",
       "</text>\n",
       "\n",
       "<text class=\"displacy-token\" fill=\"currentColor\" text-anchor=\"middle\" y=\"309.5\">\n",
       "    <tspan class=\"displacy-word\" fill=\"currentColor\" x=\"575\">at</tspan>\n",
       "    <tspan class=\"displacy-tag\" dy=\"2em\" fill=\"currentColor\" x=\"575\">ADP</tspan>\n",
       "</text>\n",
       "\n",
       "<text class=\"displacy-token\" fill=\"currentColor\" text-anchor=\"middle\" y=\"309.5\">\n",
       "    <tspan class=\"displacy-word\" fill=\"currentColor\" x=\"750\">acquiring</tspan>\n",
       "    <tspan class=\"displacy-tag\" dy=\"2em\" fill=\"currentColor\" x=\"750\">VERB</tspan>\n",
       "</text>\n",
       "\n",
       "<text class=\"displacy-token\" fill=\"currentColor\" text-anchor=\"middle\" y=\"309.5\">\n",
       "    <tspan class=\"displacy-word\" fill=\"currentColor\" x=\"925\">new</tspan>\n",
       "    <tspan class=\"displacy-tag\" dy=\"2em\" fill=\"currentColor\" x=\"925\">ADJ</tspan>\n",
       "</text>\n",
       "\n",
       "<text class=\"displacy-token\" fill=\"currentColor\" text-anchor=\"middle\" y=\"309.5\">\n",
       "    <tspan class=\"displacy-word\" fill=\"currentColor\" x=\"1100\">startup</tspan>\n",
       "    <tspan class=\"displacy-tag\" dy=\"2em\" fill=\"currentColor\" x=\"1100\">NOUN</tspan>\n",
       "</text>\n",
       "\n",
       "<text class=\"displacy-token\" fill=\"currentColor\" text-anchor=\"middle\" y=\"309.5\">\n",
       "    <tspan class=\"displacy-word\" fill=\"currentColor\" x=\"1275\">for</tspan>\n",
       "    <tspan class=\"displacy-tag\" dy=\"2em\" fill=\"currentColor\" x=\"1275\">ADP</tspan>\n",
       "</text>\n",
       "\n",
       "<text class=\"displacy-token\" fill=\"currentColor\" text-anchor=\"middle\" y=\"309.5\">\n",
       "    <tspan class=\"displacy-word\" fill=\"currentColor\" x=\"1450\">$</tspan>\n",
       "    <tspan class=\"displacy-tag\" dy=\"2em\" fill=\"currentColor\" x=\"1450\">SYM</tspan>\n",
       "</text>\n",
       "\n",
       "<text class=\"displacy-token\" fill=\"currentColor\" text-anchor=\"middle\" y=\"309.5\">\n",
       "    <tspan class=\"displacy-word\" fill=\"currentColor\" x=\"1625\">1</tspan>\n",
       "    <tspan class=\"displacy-tag\" dy=\"2em\" fill=\"currentColor\" x=\"1625\">NUM</tspan>\n",
       "</text>\n",
       "\n",
       "<text class=\"displacy-token\" fill=\"currentColor\" text-anchor=\"middle\" y=\"309.5\">\n",
       "    <tspan class=\"displacy-word\" fill=\"currentColor\" x=\"1800\">million</tspan>\n",
       "    <tspan class=\"displacy-tag\" dy=\"2em\" fill=\"currentColor\" x=\"1800\">NUM</tspan>\n",
       "</text>\n",
       "\n",
       "<g class=\"displacy-arrow\">\n",
       "    <path class=\"displacy-arc\" id=\"arrow-92f8817dac60415f95aeef18b4d50fc6-0-0\" stroke-width=\"2px\" d=\"M70,264.5 C70,89.5 395.0,89.5 395.0,264.5\" fill=\"none\" stroke=\"currentColor\"/>\n",
       "    <text dy=\"1.25em\" style=\"font-size: 0.8em; letter-spacing: 1px\">\n",
       "        <textPath xlink:href=\"#arrow-92f8817dac60415f95aeef18b4d50fc6-0-0\" class=\"displacy-label\" startOffset=\"50%\" side=\"left\" fill=\"currentColor\" text-anchor=\"middle\">nsubj</textPath>\n",
       "    </text>\n",
       "    <path class=\"displacy-arrowhead\" d=\"M70,266.5 L62,254.5 78,254.5\" fill=\"currentColor\"/>\n",
       "</g>\n",
       "\n",
       "<g class=\"displacy-arrow\">\n",
       "    <path class=\"displacy-arc\" id=\"arrow-92f8817dac60415f95aeef18b4d50fc6-0-1\" stroke-width=\"2px\" d=\"M245,264.5 C245,177.0 390.0,177.0 390.0,264.5\" fill=\"none\" stroke=\"currentColor\"/>\n",
       "    <text dy=\"1.25em\" style=\"font-size: 0.8em; letter-spacing: 1px\">\n",
       "        <textPath xlink:href=\"#arrow-92f8817dac60415f95aeef18b4d50fc6-0-1\" class=\"displacy-label\" startOffset=\"50%\" side=\"left\" fill=\"currentColor\" text-anchor=\"middle\">aux</textPath>\n",
       "    </text>\n",
       "    <path class=\"displacy-arrowhead\" d=\"M245,266.5 L237,254.5 253,254.5\" fill=\"currentColor\"/>\n",
       "</g>\n",
       "\n",
       "<g class=\"displacy-arrow\">\n",
       "    <path class=\"displacy-arc\" id=\"arrow-92f8817dac60415f95aeef18b4d50fc6-0-2\" stroke-width=\"2px\" d=\"M420,264.5 C420,177.0 565.0,177.0 565.0,264.5\" fill=\"none\" stroke=\"currentColor\"/>\n",
       "    <text dy=\"1.25em\" style=\"font-size: 0.8em; letter-spacing: 1px\">\n",
       "        <textPath xlink:href=\"#arrow-92f8817dac60415f95aeef18b4d50fc6-0-2\" class=\"displacy-label\" startOffset=\"50%\" side=\"left\" fill=\"currentColor\" text-anchor=\"middle\">prep</textPath>\n",
       "    </text>\n",
       "    <path class=\"displacy-arrowhead\" d=\"M565.0,266.5 L573.0,254.5 557.0,254.5\" fill=\"currentColor\"/>\n",
       "</g>\n",
       "\n",
       "<g class=\"displacy-arrow\">\n",
       "    <path class=\"displacy-arc\" id=\"arrow-92f8817dac60415f95aeef18b4d50fc6-0-3\" stroke-width=\"2px\" d=\"M595,264.5 C595,177.0 740.0,177.0 740.0,264.5\" fill=\"none\" stroke=\"currentColor\"/>\n",
       "    <text dy=\"1.25em\" style=\"font-size: 0.8em; letter-spacing: 1px\">\n",
       "        <textPath xlink:href=\"#arrow-92f8817dac60415f95aeef18b4d50fc6-0-3\" class=\"displacy-label\" startOffset=\"50%\" side=\"left\" fill=\"currentColor\" text-anchor=\"middle\">pcomp</textPath>\n",
       "    </text>\n",
       "    <path class=\"displacy-arrowhead\" d=\"M740.0,266.5 L748.0,254.5 732.0,254.5\" fill=\"currentColor\"/>\n",
       "</g>\n",
       "\n",
       "<g class=\"displacy-arrow\">\n",
       "    <path class=\"displacy-arc\" id=\"arrow-92f8817dac60415f95aeef18b4d50fc6-0-4\" stroke-width=\"2px\" d=\"M945,264.5 C945,177.0 1090.0,177.0 1090.0,264.5\" fill=\"none\" stroke=\"currentColor\"/>\n",
       "    <text dy=\"1.25em\" style=\"font-size: 0.8em; letter-spacing: 1px\">\n",
       "        <textPath xlink:href=\"#arrow-92f8817dac60415f95aeef18b4d50fc6-0-4\" class=\"displacy-label\" startOffset=\"50%\" side=\"left\" fill=\"currentColor\" text-anchor=\"middle\">amod</textPath>\n",
       "    </text>\n",
       "    <path class=\"displacy-arrowhead\" d=\"M945,266.5 L937,254.5 953,254.5\" fill=\"currentColor\"/>\n",
       "</g>\n",
       "\n",
       "<g class=\"displacy-arrow\">\n",
       "    <path class=\"displacy-arc\" id=\"arrow-92f8817dac60415f95aeef18b4d50fc6-0-5\" stroke-width=\"2px\" d=\"M770,264.5 C770,89.5 1095.0,89.5 1095.0,264.5\" fill=\"none\" stroke=\"currentColor\"/>\n",
       "    <text dy=\"1.25em\" style=\"font-size: 0.8em; letter-spacing: 1px\">\n",
       "        <textPath xlink:href=\"#arrow-92f8817dac60415f95aeef18b4d50fc6-0-5\" class=\"displacy-label\" startOffset=\"50%\" side=\"left\" fill=\"currentColor\" text-anchor=\"middle\">dobj</textPath>\n",
       "    </text>\n",
       "    <path class=\"displacy-arrowhead\" d=\"M1095.0,266.5 L1103.0,254.5 1087.0,254.5\" fill=\"currentColor\"/>\n",
       "</g>\n",
       "\n",
       "<g class=\"displacy-arrow\">\n",
       "    <path class=\"displacy-arc\" id=\"arrow-92f8817dac60415f95aeef18b4d50fc6-0-6\" stroke-width=\"2px\" d=\"M770,264.5 C770,2.0 1275.0,2.0 1275.0,264.5\" fill=\"none\" stroke=\"currentColor\"/>\n",
       "    <text dy=\"1.25em\" style=\"font-size: 0.8em; letter-spacing: 1px\">\n",
       "        <textPath xlink:href=\"#arrow-92f8817dac60415f95aeef18b4d50fc6-0-6\" class=\"displacy-label\" startOffset=\"50%\" side=\"left\" fill=\"currentColor\" text-anchor=\"middle\">prep</textPath>\n",
       "    </text>\n",
       "    <path class=\"displacy-arrowhead\" d=\"M1275.0,266.5 L1283.0,254.5 1267.0,254.5\" fill=\"currentColor\"/>\n",
       "</g>\n",
       "\n",
       "<g class=\"displacy-arrow\">\n",
       "    <path class=\"displacy-arc\" id=\"arrow-92f8817dac60415f95aeef18b4d50fc6-0-7\" stroke-width=\"2px\" d=\"M1470,264.5 C1470,89.5 1795.0,89.5 1795.0,264.5\" fill=\"none\" stroke=\"currentColor\"/>\n",
       "    <text dy=\"1.25em\" style=\"font-size: 0.8em; letter-spacing: 1px\">\n",
       "        <textPath xlink:href=\"#arrow-92f8817dac60415f95aeef18b4d50fc6-0-7\" class=\"displacy-label\" startOffset=\"50%\" side=\"left\" fill=\"currentColor\" text-anchor=\"middle\">quantmod</textPath>\n",
       "    </text>\n",
       "    <path class=\"displacy-arrowhead\" d=\"M1470,266.5 L1462,254.5 1478,254.5\" fill=\"currentColor\"/>\n",
       "</g>\n",
       "\n",
       "<g class=\"displacy-arrow\">\n",
       "    <path class=\"displacy-arc\" id=\"arrow-92f8817dac60415f95aeef18b4d50fc6-0-8\" stroke-width=\"2px\" d=\"M1645,264.5 C1645,177.0 1790.0,177.0 1790.0,264.5\" fill=\"none\" stroke=\"currentColor\"/>\n",
       "    <text dy=\"1.25em\" style=\"font-size: 0.8em; letter-spacing: 1px\">\n",
       "        <textPath xlink:href=\"#arrow-92f8817dac60415f95aeef18b4d50fc6-0-8\" class=\"displacy-label\" startOffset=\"50%\" side=\"left\" fill=\"currentColor\" text-anchor=\"middle\">compound</textPath>\n",
       "    </text>\n",
       "    <path class=\"displacy-arrowhead\" d=\"M1645,266.5 L1637,254.5 1653,254.5\" fill=\"currentColor\"/>\n",
       "</g>\n",
       "\n",
       "<g class=\"displacy-arrow\">\n",
       "    <path class=\"displacy-arc\" id=\"arrow-92f8817dac60415f95aeef18b4d50fc6-0-9\" stroke-width=\"2px\" d=\"M1295,264.5 C1295,2.0 1800.0,2.0 1800.0,264.5\" fill=\"none\" stroke=\"currentColor\"/>\n",
       "    <text dy=\"1.25em\" style=\"font-size: 0.8em; letter-spacing: 1px\">\n",
       "        <textPath xlink:href=\"#arrow-92f8817dac60415f95aeef18b4d50fc6-0-9\" class=\"displacy-label\" startOffset=\"50%\" side=\"left\" fill=\"currentColor\" text-anchor=\"middle\">pobj</textPath>\n",
       "    </text>\n",
       "    <path class=\"displacy-arrowhead\" d=\"M1800.0,266.5 L1808.0,254.5 1792.0,254.5\" fill=\"currentColor\"/>\n",
       "</g>\n",
       "</svg>"
      ],
      "text/plain": [
       "<IPython.core.display.HTML object>"
      ]
     },
     "metadata": {},
     "output_type": "display_data"
    }
   ],
   "source": [
    "from IPython.display import HTML, display\n",
    "from spacy import displacy\n",
    "\n",
    "html = displacy.render(doc, style='dep', jupyter=False)\n",
    "display(HTML(html))\n",
    "\n"
   ]
  },
  {
   "cell_type": "code",
   "execution_count": 23,
   "id": "956e8179",
   "metadata": {},
   "outputs": [
    {
     "data": {
      "text/html": [
       "<div class=\"entities\" style=\"line-height: 2.5; direction: ltr\">\n",
       "<mark class=\"entity\" style=\"background: #7aecec; padding: 0.45em 0.6em; margin: 0 0.25em; line-height: 1; border-radius: 0.35em;\">\n",
       "    Toyota\n",
       "    <span style=\"font-size: 0.8em; font-weight: bold; line-height: 1; border-radius: 0.35em; vertical-align: middle; margin-left: 0.5rem\">ORG</span>\n",
       "</mark>\n",
       " is looking at acquiring new startup for \n",
       "<mark class=\"entity\" style=\"background: #e4e7d2; padding: 0.45em 0.6em; margin: 0 0.25em; line-height: 1; border-radius: 0.35em;\">\n",
       "    $1 million\n",
       "    <span style=\"font-size: 0.8em; font-weight: bold; line-height: 1; border-radius: 0.35em; vertical-align: middle; margin-left: 0.5rem\">MONEY</span>\n",
       "</mark>\n",
       "</div>"
      ],
      "text/plain": [
       "<IPython.core.display.HTML object>"
      ]
     },
     "metadata": {},
     "output_type": "display_data"
    }
   ],
   "source": [
    "html2 = displacy.render(doc, style='ent', jupyter=False)\n",
    "display(HTML(html2))"
   ]
  }
 ],
 "metadata": {
  "kernelspec": {
   "display_name": ".venv",
   "language": "python",
   "name": "python3"
  },
  "language_info": {
   "codemirror_mode": {
    "name": "ipython",
    "version": 3
   },
   "file_extension": ".py",
   "mimetype": "text/x-python",
   "name": "python",
   "nbconvert_exporter": "python",
   "pygments_lexer": "ipython3",
   "version": "3.13.2"
  }
 },
 "nbformat": 4,
 "nbformat_minor": 5
}
