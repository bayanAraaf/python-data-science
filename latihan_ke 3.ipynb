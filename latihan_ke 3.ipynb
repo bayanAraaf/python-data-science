{
 "cells": [
  {
   "cell_type": "markdown",
   "id": "9131162e",
   "metadata": {},
   "source": [
    "# Intro to Python Data Science\n",
    "****************"
   ]
  },
  {
   "cell_type": "markdown",
   "id": "29803c9d",
   "metadata": {},
   "source": [
    "## Pertemuan 2\n",
    "\n",
    "### **1. Conditional Programming if-else**\n",
    "\n",
    "**Conditional programming if-else** adalah teknik dalam pemrograman untuk mengambil keputusan berdasarkan kondisi tertentu. If - else atau percabangan terdapat beberapa macam yaitu :\n",
    "\n",
    "\n",
    "| Bentuk             | Keterangan                         |\n",
    "| ------------------ | ---------------------------------- |\n",
    "| `if`               | Hanya kondisi benar                |\n",
    "| `if - else`        | Dua kemungkinan (benar atau salah) |\n",
    "| `if - elif - else` | Banyak kondisi                     |\n",
    "| Nested `if`        | `if` di dalam `if` (bersarang)     |\n",
    "| Ternary            | `if` satu baris                    |\n"
   ]
  },
  {
   "cell_type": "markdown",
   "id": "82add902",
   "metadata": {},
   "source": [
    "#### **2. IF Statement**\n",
    "\n",
    "| **Aspek**                 | **Penjelasan**                                                          |\n",
    "| ------------------------- | ----------------------------------------------------------------------- |\n",
    "| 📘 **Teori**              | Mengecek 1 kondisi saja. Kalau benar, jalankan; kalau salah, diabaikan. |\n",
    "| 👣 **Contoh Sehari-hari** | Jika jam sudah 6 pagi → bangun tidur. Kalau belum, tetap tidur.         |"
   ]
  },
  {
   "cell_type": "code",
   "execution_count": null,
   "id": "bda00dc9",
   "metadata": {},
   "outputs": [],
   "source": [
    "# Struktur Program if statement (tidak perlu di-run)\n",
    "\n",
    "# Jika kondisi terpenuhi\n",
    "if kondisi:\n",
    "    # aksi jika kondisi benar"
   ]
  },
  {
   "cell_type": "markdown",
   "id": "571e918b",
   "metadata": {},
   "source": [
    "- Contoh if bangun tidur :"
   ]
  },
  {
   "cell_type": "code",
   "execution_count": 1,
   "id": "3dff62c5",
   "metadata": {},
   "outputs": [
    {
     "name": "stdout",
     "output_type": "stream",
     "text": [
      "Bangun tidur!\n"
     ]
    }
   ],
   "source": [
    "jam = 6\n",
    "\n",
    "if jam >= 6:\n",
    "    print(\"Bangun tidur!\")"
   ]
  },
  {
   "cell_type": "markdown",
   "id": "38f19534",
   "metadata": {},
   "source": [
    "- Contoh sarapan :"
   ]
  },
  {
   "cell_type": "code",
   "execution_count": 2,
   "id": "7aeb0846",
   "metadata": {},
   "outputs": [
    {
     "name": "stdout",
     "output_type": "stream",
     "text": [
      "Kamu belum sarapan, ayo makan dulu!\n"
     ]
    }
   ],
   "source": [
    "sudah_sarapan = False\n",
    "\n",
    "if not sudah_sarapan:\n",
    "    print(\"Kamu belum sarapan, ayo makan dulu!\")\n",
    "\n",
    "    \n"
   ]
  },
  {
   "cell_type": "markdown",
   "id": "cf525b86",
   "metadata": {},
   "source": [
    "#### **3. IF ELSE Statement**\n",
    "\n",
    "| **Aspek**                 | **Penjelasan**                                                      |\n",
    "| ------------------------- | ------------------------------------------------------------------- |\n",
    "| 📘 **Teori**              | Mengecek kondisi. Kalau benar → lakukan A. Kalau salah → lakukan B. |\n",
    "| 👣 **Contoh Sehari-hari** | Jika >= 75 → Lulus, jika tidak → tidak lulus.     |"
   ]
  },
  {
   "cell_type": "code",
   "execution_count": null,
   "id": "0b3747b3",
   "metadata": {},
   "outputs": [],
   "source": [
    "# Struktur Program if else (tidak perlu di-run)\n",
    "\n",
    "# Jika kondisi terpenuhi\n",
    "if kondisi:\n",
    "    # aksi jika kondisi benar\n",
    "else:\n",
    "    # aksi jika kondisi salah"
   ]
  },
  {
   "cell_type": "markdown",
   "id": "19098068",
   "metadata": {},
   "source": [
    "- Contoh if else kelulusan :"
   ]
  },
  {
   "cell_type": "code",
   "execution_count": 3,
   "id": "c1046f8b",
   "metadata": {},
   "outputs": [
    {
     "name": "stdout",
     "output_type": "stream",
     "text": [
      "Lulus\n"
     ]
    }
   ],
   "source": [
    "nilai = 80\n",
    "\n",
    "if nilai >= 75:\n",
    "    print(\"Lulus\")\n",
    "else:\n",
    "    print(\"Tidak lulus\")\n"
   ]
  },
  {
   "cell_type": "markdown",
   "id": "686f614f",
   "metadata": {},
   "source": [
    "### **4. IF - ELIF - ELSE Statement**\n",
    "\n",
    "| **Aspek**                 | **Penjelasan**                                                                               |\n",
    "| ------------------------- | -------------------------------------------------------------------------------------------- |\n",
    "| 📘 **Teori**              | Mengecek beberapa kondisi secara berurutan. Dieksekusi satu kondisi yang pertama kali benar. |\n",
    "| 👣 **Contoh Sehari-hari** | Nilai ujian: ≥90 A, ≥80 B, ≥70 C, <70 D                                                      |"
   ]
  },
  {
   "cell_type": "code",
   "execution_count": null,
   "id": "eedb446f",
   "metadata": {},
   "outputs": [],
   "source": [
    "# Struktur Program if else (tidak perlu di run)\n",
    "\n",
    "# Kondisi pertama jika benar\n",
    "if kondisi:\n",
    "\n",
    "# Kondisi kedua jika benar\n",
    "elif kondisi_lain:\n",
    "\n",
    "# Kondisi terakhir jika semua salah\n",
    "else:\n"
   ]
  },
  {
   "cell_type": "markdown",
   "id": "71660f41",
   "metadata": {},
   "source": [
    "- Contoh Cuaca :"
   ]
  },
  {
   "cell_type": "code",
   "execution_count": 2,
   "id": "5bf86f16",
   "metadata": {},
   "outputs": [
    {
     "name": "stdout",
     "output_type": "stream",
     "text": [
      "Cuaca cerah, nikmati hari ini!\n"
     ]
    }
   ],
   "source": [
    "cuaca = \"kepo\"\n",
    "\n",
    "if cuaca == \"hujan\":\n",
    "    print(\"Bawa payung.\")\n",
    "elif cuaca == \"mendung\":\n",
    "    print(\"Siapkan jas hujan.\")\n",
    "else:\n",
    "    print(\"Cuaca cerah, nikmati hari ini!\")\n"
   ]
  },
  {
   "cell_type": "markdown",
   "id": "6f446b6d",
   "metadata": {},
   "source": [
    "- Contoh Penilaian Nilai Mahasiswa :"
   ]
  },
  {
   "cell_type": "code",
   "execution_count": 3,
   "id": "b554d413",
   "metadata": {},
   "outputs": [
    {
     "name": "stdout",
     "output_type": "stream",
     "text": [
      "Grade: B\n"
     ]
    }
   ],
   "source": [
    "nilai = 85\n",
    "\n",
    "if nilai >= 90:\n",
    "    print(\"Grade: A\")\n",
    "elif nilai >= 80:\n",
    "    print(\"Grade: B\")\n",
    "elif nilai >= 70:\n",
    "    print(\"Grade: C\")\n",
    "elif nilai >= 60:\n",
    "    print(\"Grade: D\")\n",
    "else:\n",
    "    print(\"Grade: E\")\n"
   ]
  },
  {
   "cell_type": "markdown",
   "id": "e1974cd0",
   "metadata": {},
   "source": [
    "- Contoh Sistem Login"
   ]
  },
  {
   "cell_type": "code",
   "execution_count": 4,
   "id": "7300c67c",
   "metadata": {},
   "outputs": [
    {
     "name": "stdout",
     "output_type": "stream",
     "text": [
      "Password salah.\n"
     ]
    }
   ],
   "source": [
    "username = input(\"Masukkan username: \")\n",
    "password = input(\"Masukkan password: \")\n",
    "\n",
    "if username == \"admin\" and password == \"123456\":\n",
    "    print(\"Login berhasil!\")\n",
    "elif username != \"admin\":\n",
    "    print(\"Username salah.\")\n",
    "else:\n",
    "    print(\"Password salah.\")\n"
   ]
  },
  {
   "cell_type": "markdown",
   "id": "69d4c651",
   "metadata": {},
   "source": [
    "### **5. Nested IF**\n",
    "\n",
    "Apa itu Nested if (if bersarang) ?\n",
    "\n",
    "| **Aspek**                 | **Penjelasan**                                                                     |\n",
    "| ------------------------- | ---------------------------------------------------------------------------------- |\n",
    "| 📘 **Teori**              | `if` di dalam `if` untuk mengecek kondisi yang lebih kompleks.                     |\n",
    "| 👣 **Contoh Sehari-hari** | Jika umur ≥17 dan punya KTP → boleh ikut pemilu. Jika tidak punya KTP → buat dulu. |"
   ]
  },
  {
   "cell_type": "code",
   "execution_count": null,
   "id": "a27f80ff",
   "metadata": {},
   "outputs": [],
   "source": [
    "# Struktur Program nested if (tidak perlu di-run)\n",
    "\n",
    "# Kondisi luar\n",
    "if kondisi_utama:\n",
    "    # aksi jika kondisi_utama benar\n",
    "\n",
    "    # Kondisi dalam (bersarang)\n",
    "    if kondisi_dalam:\n",
    "        # aksi jika kondisi_dalam juga benar\n"
   ]
  },
  {
   "cell_type": "markdown",
   "id": "cfb31948",
   "metadata": {},
   "source": [
    "- Contoh nested if KTP :"
   ]
  },
  {
   "cell_type": "code",
   "execution_count": 16,
   "id": "59275ae9",
   "metadata": {},
   "outputs": [
    {
     "name": "stdout",
     "output_type": "stream",
     "text": [
      "bikin ktp dlu\n"
     ]
    }
   ],
   "source": [
    "umur = 17\n",
    "punya_ktp = False\n",
    "\n",
    "if umur >= 17 :\n",
    "      if punya_ktp == True :\n",
    "          print(\"boleh ikut\")\n",
    "      else :\n",
    "       print(\"bikin ktp dlu\")\n",
    "else:\n",
    "    print(\"blm cukup umur\")\n",
    "\n",
    "\n"
   ]
  },
  {
   "cell_type": "markdown",
   "id": "3b6540f2",
   "metadata": {},
   "source": [
    "- Contoh nested if diskon belanja :"
   ]
  },
  {
   "cell_type": "code",
   "execution_count": 34,
   "id": "eba42d0e",
   "metadata": {},
   "outputs": [
    {
     "name": "stdout",
     "output_type": "stream",
     "text": [
      "Tidak dapat diskon\n"
     ]
    }
   ],
   "source": [
    "total_belanja = 300000\n",
    "is_member = False\n",
    "\n",
    "if total_belanja > 500000:\n",
    "    if is_member:\n",
    "        print(\"Diskon 20%\")\n",
    "    else:\n",
    "        print(\"Diskon 10%\")\n",
    "elif is_member:\n",
    "    print(\"Diskon 10%\")\n",
    "else:\n",
    "    print(\"Tidak dapat diskon\")\n"
   ]
  },
  {
   "cell_type": "markdown",
   "id": "710153fb",
   "metadata": {},
   "source": [
    "### 6. **Ternary Operator**"
   ]
  },
  {
   "cell_type": "markdown",
   "id": "de5cedf2",
   "metadata": {},
   "source": [
    "| **Aspek**                 | **Penjelasan**                                                       |\n",
    "| ------------------------- | -------------------------------------------------------------------- |\n",
    "| 📘 **Teori**              | Versi singkat dari if-else untuk kondisi sederhana, satu baris saja. |\n",
    "| 👣 **Contoh Sehari-hari** | Jika umur ≥17 → dewasa, jika tidak → anak-anak                       |"
   ]
  },
  {
   "cell_type": "code",
   "execution_count": null,
   "id": "03deed3b",
   "metadata": {},
   "outputs": [],
   "source": [
    "# Struktur Program ternary operator (tidak perlu di-run)\n",
    "\n",
    "# Format umum:\n",
    "# variabel = nilai_jika_true if kondisi else nilai_jika_false\n",
    "\n",
    "variabel = hasil_true if kondisi else hasil_false\n"
   ]
  },
  {
   "cell_type": "markdown",
   "id": "872f951a",
   "metadata": {},
   "source": [
    "- Contoh Ternary Operator cek umur :"
   ]
  },
  {
   "cell_type": "code",
   "execution_count": 36,
   "id": "0703c5bc",
   "metadata": {},
   "outputs": [
    {
     "name": "stdout",
     "output_type": "stream",
     "text": [
      "Dewasa\n"
     ]
    }
   ],
   "source": [
    "umur = 17\n",
    "status = \"Dewasa\" if umur >= 17 else \"Anak-anak\"\n",
    "print(status)\n"
   ]
  },
  {
   "cell_type": "code",
   "execution_count": 39,
   "id": "fca4781e",
   "metadata": {},
   "outputs": [
    {
     "name": "stdout",
     "output_type": "stream",
     "text": [
      "Diskon: 0%\n",
      "Total yang harus dibayar: Rp400,000\n"
     ]
    }
   ],
   "source": [
    "total_belanja = 400000\n",
    "is_member = True\n",
    "\n",
    "# Jika member dan belanja di atas 500k → diskon 20%, kalau tidak → 0%\n",
    "diskon = 0.2 if is_member and total_belanja >= 500000 else 0\n",
    "total_bayar = total_belanja - (total_belanja * diskon)\n",
    "\n",
    "print(f\"Diskon: {diskon * 100}%\")\n",
    "print(f\"Total yang harus dibayar: Rp{total_bayar:,.0f}\")\n",
    "\n",
    "# Penjelasan:\n",
    "# Kondisi: is_member = True AND total_belanja >= 500000 → True\n",
    "# Maka diskon = 0.2 (20%)\n",
    "# total_bayar = 600000 - (600000 * 0.2) = 480000\n"
   ]
  },
  {
   "cell_type": "code",
   "execution_count": null,
   "id": "a42607ae",
   "metadata": {},
   "outputs": [],
   "source": []
  },
  {
   "cell_type": "markdown",
   "id": "fb2b52ae",
   "metadata": {},
   "source": [
    "### **7. Percabangan dengan Boolean**"
   ]
  },
  {
   "cell_type": "markdown",
   "id": "8a0b8e81",
   "metadata": {},
   "source": [
    "| **Aspek**                 | **Penjelasan**                                          |\n",
    "| ------------------------- | ------------------------------------------------------- |\n",
    "| 📘 **Teori**              | Menggabungkan dua atau lebih kondisi dengan `and`, `or` |\n",
    "| 👣 **Contoh Sehari-hari** | Jika kamu punya SIM **dan** motor → boleh bawa motor    |"
   ]
  },
  {
   "cell_type": "markdown",
   "id": "2c28a250",
   "metadata": {},
   "source": [
    "#### **AND ( && )**"
   ]
  },
  {
   "cell_type": "markdown",
   "id": "c53ddb1b",
   "metadata": {},
   "source": [
    "Penjelasan:\n",
    "\n",
    "True and True → hasilnya True\n",
    "\n",
    "Hanya akan bernilai True jika semua kondisi benar"
   ]
  },
  {
   "cell_type": "markdown",
   "id": "dbeb3037",
   "metadata": {},
   "source": [
    "- Contoh cek sim dan motor :"
   ]
  },
  {
   "cell_type": "code",
   "execution_count": 17,
   "id": "6827985b",
   "metadata": {},
   "outputs": [
    {
     "name": "stdout",
     "output_type": "stream",
     "text": [
      "Tidak boleh bawa motor\n"
     ]
    }
   ],
   "source": [
    "punya_sim = False\n",
    "punya_motor = True\n",
    "\n",
    "if punya_sim and punya_motor:\n",
    "    print(\"Boleh bawa motor\")\n",
    "else:\n",
    "    print(\"Tidak boleh bawa motor\")\n"
   ]
  },
  {
   "cell_type": "markdown",
   "id": "7e350453",
   "metadata": {},
   "source": [
    "- Contoh sistem login dengan boolean :"
   ]
  },
  {
   "cell_type": "code",
   "execution_count": null,
   "id": "21395755",
   "metadata": {},
   "outputs": [],
   "source": [
    "username = input(\"Masukkan username: \")\n",
    "password = input(\"Masukkan password: \")\n",
    "\n",
    "if username == \"admin\" and password == \"123456\":\n",
    "    print(\"Login berhasil!\")\n",
    "elif username != \"admin\" and password == \"123456\":\n",
    "    print(\"Username salah.\")\n",
    "elif username == \"admin\" and password != \"123456\":\n",
    "    print(\"Password salah.\")\n",
    "else:\n",
    "    print(\"Username dan Password salah.\")\n",
    "\n",
    "\n",
    "# Penjelasan:\n",
    "\n",
    "# if     : keduanya benar\n",
    "# elif 1 : hanya username salah\n",
    "# elif 2 : hanya password salah\n",
    "# else : keduanya salah"
   ]
  },
  {
   "cell_type": "markdown",
   "id": "9bb1c58b",
   "metadata": {},
   "source": [
    "#### **OR ( | | )**"
   ]
  },
  {
   "cell_type": "markdown",
   "id": "d59635d9",
   "metadata": {},
   "source": [
    "Penjelasan:\n",
    "\n",
    "True or False → hasilnya True\n",
    "\n",
    "Akan bernilai True jika salah satu kondisi saja benar"
   ]
  },
  {
   "cell_type": "markdown",
   "id": "424c22d3",
   "metadata": {},
   "source": [
    "- Contoh cek kartu mahasiswa untuk masuk ruangan :"
   ]
  },
  {
   "cell_type": "code",
   "execution_count": 41,
   "id": "40e66d82",
   "metadata": {},
   "outputs": [
    {
     "name": "stdout",
     "output_type": "stream",
     "text": [
      "Akses ditolak\n"
     ]
    }
   ],
   "source": [
    "punya_kartu_mahasiswa = False\n",
    "punya_izin_dosen = False\n",
    "\n",
    "if punya_kartu_mahasiswa or punya_izin_dosen:\n",
    "    print(\"Silakan masuk ruangan\")\n",
    "else:\n",
    "    print(\"Akses ditolak\")\n",
    "\n",
    "# Penjelasan:\n",
    "# Jika pengguna memiliki kartu mahasiswa ATAU memiliki izin dosen,\n",
    "# maka diizinkan masuk ruangan.\n",
    "# Karena punya_izin_dosen bernilai True, maka kondisi terpenuhi.\n",
    "# Maka output: \"Silakan masuk ruangan\"\n"
   ]
  },
  {
   "cell_type": "code",
   "execution_count": 42,
   "id": "a2f9d7a2",
   "metadata": {},
   "outputs": [
    {
     "name": "stdout",
     "output_type": "stream",
     "text": [
      "Hari libur nasional atau tidak valid\n"
     ]
    }
   ],
   "source": [
    "# Nama hari\n",
    "hari = \"apa aja\"\n",
    "\n",
    "# Cek jenis hari\n",
    "if hari == \"Senin\" or hari == \"Selasa\" or hari == \"Rabu\" or hari == \"Kamis\" or hari == \"Jumat\":\n",
    "    print(\"Hari kerja\")\n",
    "elif hari == \"Sabtu\" or hari == \"Minggu\":\n",
    "    print(\"Hari weekend\")\n",
    "else:\n",
    "    print(\"Hari libur nasional atau tidak valid\")\n",
    "\n",
    "# Penjelasan:\n",
    "# Jika hari adalah salah satu dari Senin–Jumat → cetak \"Hari kerja\"\n",
    "# Jika hari adalah Sabtu atau Minggu → cetak \"Hari weekend\"\n",
    "# Jika bukan salah satu dari itu → dianggap hari libur nasional atau input tidak valid\n"
   ]
  },
  {
   "cell_type": "markdown",
   "id": "cf964830",
   "metadata": {},
   "source": [
    "#### **NOT ( ! )**"
   ]
  },
  {
   "cell_type": "markdown",
   "id": "3933f949",
   "metadata": {},
   "source": [
    " Penjelasan:\n",
    " \n",
    "not True → False\n",
    "\n",
    "not False → True\n",
    "\n",
    "Digunakan untuk membalik nilai boolean"
   ]
  },
  {
   "cell_type": "markdown",
   "id": "5d6f8fdf",
   "metadata": {},
   "source": [
    "- Contoh cek sudah terlambat atau belum :"
   ]
  },
  {
   "cell_type": "code",
   "execution_count": 43,
   "id": "fcfe4076",
   "metadata": {},
   "outputs": [
    {
     "name": "stdout",
     "output_type": "stream",
     "text": [
      "Tidak boleh ikut ujian\n"
     ]
    }
   ],
   "source": [
    "terlambat = True\n",
    "\n",
    "if not terlambat:\n",
    "    print(\"Boleh ikut ujian\")\n",
    "else:\n",
    "    print(\"Tidak boleh ikut ujian\")\n",
    "\n",
    "# Penjelasan:\n",
    "# Variabel 'terlambat' bernilai False (artinya tidak terlambat).\n",
    "# 'not terlambat' berarti membalik nilai menjadi True.\n",
    "# Karena kondisi menjadi True, maka output-nya: \"Boleh ikut ujian\".\n",
    "\n"
   ]
  },
  {
   "cell_type": "markdown",
   "id": "640d86c6",
   "metadata": {},
   "source": [
    "- Contoh verifikasi email :"
   ]
  },
  {
   "cell_type": "code",
   "execution_count": 44,
   "id": "1672083a",
   "metadata": {},
   "outputs": [
    {
     "name": "stdout",
     "output_type": "stream",
     "text": [
      "Akses ditolak\n"
     ]
    }
   ],
   "source": [
    "sudah_verifikasi_email = True\n",
    "diblokir = True\n",
    "\n",
    "if not diblokir and sudah_verifikasi_email:\n",
    "    print(\"Akses sistem diizinkan\")\n",
    "else:\n",
    "    print(\"Akses ditolak\")\n",
    "\n",
    "# Penjelasan:\n",
    "# not diblokir → not False → True\n",
    "# sudah_verifikasi_email → True\n",
    "# Maka: True and True → True → akses diizinkan\n"
   ]
  },
  {
   "cell_type": "markdown",
   "id": "0bca191e",
   "metadata": {},
   "source": [
    "- **Contoh Kombinasi** :"
   ]
  },
  {
   "cell_type": "code",
   "execution_count": 45,
   "id": "c9edaafc",
   "metadata": {},
   "outputs": [
    {
     "name": "stdout",
     "output_type": "stream",
     "text": [
      "Berbahaya! Bisa ditilang\n"
     ]
    }
   ],
   "source": [
    "# Inisialisasi variabel kondisi\n",
    "punya_sim = False            # Pengguna tidak punya SIM\n",
    "punya_motor = True           # Pengguna punya motor\n",
    "sedang_dikejar_polisi = True # Pengguna tidak sedang dikejar polisi\n",
    "\n",
    "# Percabangan menggunakan kombinasi AND, OR, dan NOT\n",
    "if (punya_sim and punya_motor) or not sedang_dikejar_polisi:\n",
    "    print(\"Masih aman di jalan\")\n",
    "else:\n",
    "    print(\"Berbahaya! Bisa ditilang\")\n",
    "\n",
    "# Penjelasan:\n",
    "# (punya_sim and punya_motor) = (False and True) → False\n",
    "# not sedang_dikejar_polisi = not False → True\n",
    "# Maka kondisi: False or True → True\n",
    "# Karena kondisi if bernilai True, maka output: \"Masih aman di jalan\"\n",
    "\n",
    "\n"
   ]
  },
  {
   "cell_type": "markdown",
   "id": "ae73ef53",
   "metadata": {},
   "source": [
    "**********************************"
   ]
  },
  {
   "cell_type": "markdown",
   "id": "70b566f4",
   "metadata": {},
   "source": [
    "### Latihan Percabangan ! "
   ]
  },
  {
   "cell_type": "markdown",
   "id": "1be9a1e0",
   "metadata": {},
   "source": [
    "1. buatlah if statement untuk cek apakah suhu di atas 30 derajat. Jika ya, tampilkan :\n",
    "\n",
    "```\n",
    "Hari ini panas\n",
    "```\n",
    "\n",
    "2. buatlah if else statement untuk cek apakah Cek apakah umur ≥ 17.\n",
    "\n",
    "    Jika ya → \"Boleh buat KTP\"\n",
    "\n",
    "    Jika tidak → \"Belum cukup umur\"\n",
    "\n",
    "Output :\n",
    "```\n",
    "Belum cukup umur\n",
    "```\n",
    "```\n",
    "Boleh buat KTP\n",
    "```\n",
    "\n",
    "3. Tentukan grade berdasarkan nilai:\n",
    "\n",
    "    ≥90 → \"Grade A\"\n",
    "\n",
    "    ≥80 → \"Grade B\"\n",
    "\n",
    "    ≥70 → \"Grade C\"\n",
    "\n",
    "    <70 → \"Grade D\"\n",
    "\n",
    "Output :\n",
    "```\n",
    "Grade B\n",
    "```\n",
    "\n",
    "4. Buatlah Nested if Statement. Jika umur ≥ 17, lalu cek apakah sudah punya KTP:\n",
    "\n",
    "    Jika ya → \"Sudah bisa ikut pemilu\"\n",
    "\n",
    "    Jika tidak → \"Harus buat KTP dulu\"\n",
    "\n",
    "    Jika umur < 17 → \"Belum cukup umur\"\n",
    "\n",
    "output :\n",
    "\n",
    "```\n",
    "Harus buat KTP dulu\n",
    "```"
   ]
  },
  {
   "cell_type": "markdown",
   "id": "7ba28c63",
   "metadata": {},
   "source": [
    "5. Tentukan apakah angka adalah \"Genap\" atau \"Ganjil\" menggunakan ternary operator. output :\n",
    "\n",
    "```\n",
    "Genap\n",
    "```\n",
    "```\n",
    "Ganjil\n",
    "```"
   ]
  },
  {
   "cell_type": "code",
   "execution_count": 88,
   "id": "ea09f9db",
   "metadata": {},
   "outputs": [
    {
     "name": "stdout",
     "output_type": "stream",
     "text": [
      "dingin nyoo\n"
     ]
    }
   ],
   "source": [
    "#1\n",
    "suhu = 30\n",
    "\n",
    "if suhu > 30 :\n",
    "    print(\"panas nyoo\")\n",
    "else :\n",
    "    print(\"dingin nyoo\")"
   ]
  },
  {
   "cell_type": "code",
   "execution_count": 89,
   "id": "0babff84",
   "metadata": {},
   "outputs": [
    {
     "name": "stdout",
     "output_type": "stream",
     "text": [
      "sudah cukup ummuur\n"
     ]
    }
   ],
   "source": [
    "#2\n",
    "umur = 17\n",
    "\n",
    "if umur < 17 :\n",
    "    print(\"blm cukup umur\")\n",
    "\n",
    "else :\n",
    "    print(\"sudah cukup ummuur\")"
   ]
  },
  {
   "cell_type": "code",
   "execution_count": 91,
   "id": "edc356a4",
   "metadata": {},
   "outputs": [
    {
     "name": "stdout",
     "output_type": "stream",
     "text": [
      "grade A\n"
     ]
    }
   ],
   "source": [
    "#3\n",
    "nilai = 90\n",
    "\n",
    "if nilai >= 90 :\n",
    "    print(\"grade A\")\n",
    "elif nilai >= 80 :\n",
    "    print(\"grade B\")\n",
    "elif nilai >= 70 :\n",
    "    print(\"grade C\")\n",
    "elif nilai < 70 :\n",
    "    print(\"grade D\")\n",
    "else :\n",
    "    print(\"belajar yang bener\")"
   ]
  },
  {
   "cell_type": "code",
   "execution_count": 93,
   "id": "c14fe111",
   "metadata": {},
   "outputs": [
    {
     "name": "stdout",
     "output_type": "stream",
     "text": [
      "sudah bisa ikut pemilu\n"
     ]
    }
   ],
   "source": [
    "#4\n",
    "umur = 17\n",
    "ktp = True\n",
    "\n",
    "if umur >= 17:\n",
    "    print(\"sudah bisa ikut pemilu\")\n",
    "    if ktp == False :\n",
    "        print (\"bikin ktp dlu\")\n",
    "else :\n",
    "    print(\"blm cukup umur\")\n",
    "    \n",
    "    \n",
    "    \n"
   ]
  },
  {
   "cell_type": "code",
   "execution_count": null,
   "id": "ba91493c",
   "metadata": {},
   "outputs": [
    {
     "name": "stdout",
     "output_type": "stream",
     "text": [
      "ganjil\n"
     ]
    }
   ],
   "source": [
    "#5\n",
    "angka = 99\n",
    "print(\"genap\" if angka % 2 == 0 else \"ganjil\") \n"
   ]
  },
  {
   "cell_type": "code",
   "execution_count": 6,
   "id": "a1e7003b",
   "metadata": {},
   "outputs": [
    {
     "name": "stdout",
     "output_type": "stream",
     "text": [
      "sudah terdaftar\n"
     ]
    }
   ],
   "source": [
    "daftar = True\n",
    "bayar = True\n",
    "\n",
    "if daftar and bayar:\n",
    "    print(\"sudah terdaftar\")\n",
    "else :\n",
    "    print(\"bayar dlu dan daftar dlu\")    "
   ]
  },
  {
   "cell_type": "code",
   "execution_count": 10,
   "id": "0b4dfda8",
   "metadata": {},
   "outputs": [
    {
     "name": "stdout",
     "output_type": "stream",
     "text": [
      "boleh minjem\n",
      "member dlu\n"
     ]
    }
   ],
   "source": [
    "murid = True\n",
    "member = False\n",
    "\n",
    "if murid or member :\n",
    "    print(\"boleh minjem\")\n",
    "    if member == False :\n",
    "        print(\"member dlu\")\n",
    "else :\n",
    "    print(\"ga bolhe\")"
   ]
  }
 ],
 "metadata": {
  "kernelspec": {
   "display_name": ".venv",
   "language": "python",
   "name": "python3"
  },
  "language_info": {
   "codemirror_mode": {
    "name": "ipython",
    "version": 3
   },
   "file_extension": ".py",
   "mimetype": "text/x-python",
   "name": "python",
   "nbconvert_exporter": "python",
   "pygments_lexer": "ipython3",
   "version": "3.13.2"
  }
 },
 "nbformat": 4,
 "nbformat_minor": 5
}
